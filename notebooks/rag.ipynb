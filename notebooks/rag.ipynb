{
 "cells": [
  {
   "cell_type": "markdown",
   "id": "154b2d0e-f7ce-453b-b3b7-eda0666a9795",
   "metadata": {},
   "source": [
    "# RAG-based LLM Applications"
   ]
  },
  {
   "cell_type": "markdown",
   "id": "de569042-32c7-4bea-a1ef-f0e41e260645",
   "metadata": {},
   "source": [
    "- https://github.com/ray-project/llm-applications\n",
    "- https://endpoints.anyscale.com/"
   ]
  },
  {
   "cell_type": "markdown",
   "id": "35af14d4-478a-418b-a738-b17012188779",
   "metadata": {},
   "source": [
    "## Set up"
   ]
  },
  {
   "cell_type": "code",
   "execution_count": 1,
   "id": "e538090b-c736-46e7-8427-298ecc3e50f9",
   "metadata": {
    "tags": []
   },
   "outputs": [],
   "source": [
    "import os\n",
    "import openai\n",
    "from pathlib import Path\n",
    "from pprint import pprint\n",
    "import ray\n",
    "from tqdm import tqdm"
   ]
  },
  {
   "cell_type": "code",
   "execution_count": 2,
   "id": "633996c3-45b4-4ac6-961d-56b0df9156c0",
   "metadata": {
    "tags": []
   },
   "outputs": [
    {
     "data": {
      "text/plain": [
       "True"
      ]
     },
     "execution_count": 2,
     "metadata": {},
     "output_type": "execute_result"
    }
   ],
   "source": [
    "import sys; sys.path.append(\"..\")\n",
    "import warnings; warnings.filterwarnings(\"ignore\")\n",
    "from dotenv import load_dotenv; load_dotenv()"
   ]
  },
  {
   "cell_type": "code",
   "execution_count": 3,
   "id": "67203efd-979e-4ea5-97a2-f4115c02dcad",
   "metadata": {
    "tags": []
   },
   "outputs": [
    {
     "name": "stdout",
     "output_type": "stream",
     "text": [
      "EFS_DIR: /efs/shared_storage/goku\n",
      "ROOT_DIR: /home/ray/ray-assistant\n",
      "EXPERIMENTS_DIR: /home/ray/ray-assistant/experiments_small\n"
     ]
    }
   ],
   "source": [
    "# Directories\n",
    "EFS_DIR = Path(\"/efs/shared_storage/goku\")\n",
    "ROOT_DIR = Path(os.getcwd()).parent\n",
    "EXPERIMENTS_DIR = Path(ROOT_DIR, \"experiments_small\")\n",
    "print (f\"EFS_DIR: {EFS_DIR}\")\n",
    "print (f\"ROOT_DIR: {ROOT_DIR}\")\n",
    "print (f\"EXPERIMENTS_DIR: {EXPERIMENTS_DIR}\")"
   ]
  },
  {
   "cell_type": "code",
   "execution_count": 4,
   "id": "8f36dc38-f797-4db9-9979-2450764679aa",
   "metadata": {
    "tags": []
   },
   "outputs": [
    {
     "name": "stderr",
     "output_type": "stream",
     "text": [
      "2023-09-04 12:13:36,712\tINFO worker.py:1431 -- Connecting to existing Ray cluster at address: 10.0.5.135:6379...\n",
      "2023-09-04 12:13:36,725\tINFO worker.py:1612 -- Connected to Ray cluster. View the dashboard at \u001b[1m\u001b[32mhttps://session-yn5cwtau135l5cajlbkzrdyqqp.i.anyscaleuserdata-staging.com \u001b[39m\u001b[22m\n",
      "2023-09-04 12:13:36,728\tINFO packaging.py:346 -- Pushing file package 'gcs://_ray_pkg_53a8a13ea982be5f3f90661c309df5a6.zip' (0.24MiB) to Ray cluster...\n",
      "2023-09-04 12:13:36,730\tINFO packaging.py:359 -- Successfully pushed file package 'gcs://_ray_pkg_53a8a13ea982be5f3f90661c309df5a6.zip'.\n"
     ]
    },
    {
     "data": {
      "application/vnd.jupyter.widget-view+json": {
       "model_id": "26e23baa955040fc97f197b1a4e09a88",
       "version_major": 2,
       "version_minor": 0
      },
      "text/html": [
       "<div class=\"lm-Widget p-Widget lm-Panel p-Panel jp-Cell-outputWrapper\">\n",
       "    <div style=\"margin-left: 50px;display: flex;flex-direction: row;align-items: center\">\n",
       "        <div class=\"jp-RenderedHTMLCommon\" style=\"display: flex; flex-direction: row;\">\n",
       "  <svg viewBox=\"0 0 567 224\" fill=\"none\" xmlns=\"http://www.w3.org/2000/svg\" style=\"height: 3em;\">\n",
       "    <g clip-path=\"url(#clip0_4338_178347)\">\n",
       "        <path d=\"M341.29 165.561H355.29L330.13 129.051C345.63 123.991 354.21 112.051 354.21 94.2307C354.21 71.3707 338.72 58.1807 311.88 58.1807H271V165.561H283.27V131.661H311.8C314.25 131.661 316.71 131.501 319.01 131.351L341.25 165.561H341.29ZM283.29 119.851V70.0007H311.82C331.3 70.0007 342.34 78.2907 342.34 94.5507C342.34 111.271 331.34 119.861 311.82 119.861L283.29 119.851ZM451.4 138.411L463.4 165.561H476.74L428.74 58.1807H416L367.83 165.561H380.83L392.83 138.411H451.4ZM446.19 126.601H398L422 72.1407L446.24 126.601H446.19ZM526.11 128.741L566.91 58.1807H554.35L519.99 114.181L485.17 58.1807H472.44L514.01 129.181V165.541H526.13V128.741H526.11Z\" fill=\"var(--jp-ui-font-color0)\"/>\n",
       "        <path d=\"M82.35 104.44C84.0187 97.8827 87.8248 92.0678 93.1671 87.9146C98.5094 83.7614 105.083 81.5067 111.85 81.5067C118.617 81.5067 125.191 83.7614 130.533 87.9146C135.875 92.0678 139.681 97.8827 141.35 104.44H163.75C164.476 101.562 165.622 98.8057 167.15 96.2605L127.45 56.5605C121.071 60.3522 113.526 61.6823 106.235 60.3005C98.9443 58.9187 92.4094 54.9203 87.8602 49.0574C83.3109 43.1946 81.0609 35.8714 81.5332 28.4656C82.0056 21.0599 85.1679 14.0819 90.4252 8.8446C95.6824 3.60726 102.672 0.471508 110.08 0.0272655C117.487 -0.416977 124.802 1.86091 130.647 6.4324C136.493 11.0039 140.467 17.5539 141.821 24.8501C143.175 32.1463 141.816 39.6859 138 46.0505L177.69 85.7505C182.31 82.9877 187.58 81.4995 192.962 81.4375C198.345 81.3755 203.648 82.742 208.33 85.3976C213.012 88.0532 216.907 91.9029 219.616 96.5544C222.326 101.206 223.753 106.492 223.753 111.875C223.753 117.258 222.326 122.545 219.616 127.197C216.907 131.848 213.012 135.698 208.33 138.353C203.648 141.009 198.345 142.375 192.962 142.313C187.58 142.251 182.31 140.763 177.69 138L138 177.7C141.808 184.071 143.155 191.614 141.79 198.91C140.424 206.205 136.44 212.75 130.585 217.313C124.731 221.875 117.412 224.141 110.004 223.683C102.596 223.226 95.6103 220.077 90.3621 214.828C85.1139 209.58 81.9647 202.595 81.5072 195.187C81.0497 187.779 83.3154 180.459 87.878 174.605C92.4405 168.751 98.9853 164.766 106.281 163.401C113.576 162.035 121.119 163.383 127.49 167.19L167.19 127.49C165.664 124.941 164.518 122.182 163.79 119.3H141.39C139.721 125.858 135.915 131.673 130.573 135.826C125.231 139.98 118.657 142.234 111.89 142.234C105.123 142.234 98.5494 139.98 93.2071 135.826C87.8648 131.673 84.0587 125.858 82.39 119.3H60C58.1878 126.495 53.8086 132.78 47.6863 136.971C41.5641 141.163 34.1211 142.972 26.7579 142.059C19.3947 141.146 12.6191 137.574 7.70605 132.014C2.79302 126.454 0.0813599 119.29 0.0813599 111.87C0.0813599 104.451 2.79302 97.2871 7.70605 91.7272C12.6191 86.1673 19.3947 82.5947 26.7579 81.6817C34.1211 80.7686 41.5641 82.5781 47.6863 86.7696C53.8086 90.9611 58.1878 97.2456 60 104.44H82.35ZM100.86 204.32C103.407 206.868 106.759 208.453 110.345 208.806C113.93 209.159 117.527 208.258 120.522 206.256C123.517 204.254 125.725 201.276 126.771 197.828C127.816 194.38 127.633 190.677 126.253 187.349C124.874 184.021 122.383 181.274 119.205 179.577C116.027 177.88 112.359 177.337 108.826 178.042C105.293 178.746 102.113 180.654 99.8291 183.44C97.5451 186.226 96.2979 189.718 96.3 193.32C96.2985 195.364 96.7006 197.388 97.4831 199.275C98.2656 201.163 99.4132 202.877 100.86 204.32ZM204.32 122.88C206.868 120.333 208.453 116.981 208.806 113.396C209.159 109.811 208.258 106.214 206.256 103.219C204.254 100.223 201.275 98.0151 197.827 96.97C194.38 95.9249 190.676 96.1077 187.348 97.4873C184.02 98.8669 181.274 101.358 179.577 104.536C177.879 107.714 177.337 111.382 178.041 114.915C178.746 118.448 180.653 121.627 183.439 123.911C186.226 126.195 189.717 127.443 193.32 127.44C195.364 127.443 197.388 127.042 199.275 126.259C201.163 125.476 202.878 124.328 204.32 122.88ZM122.88 19.4205C120.333 16.8729 116.981 15.2876 113.395 14.9347C109.81 14.5817 106.213 15.483 103.218 17.4849C100.223 19.4868 98.0146 22.4654 96.9696 25.9131C95.9245 29.3608 96.1073 33.0642 97.4869 36.3922C98.8665 39.7202 101.358 42.4668 104.535 44.1639C107.713 45.861 111.381 46.4036 114.914 45.6992C118.447 44.9949 121.627 43.0871 123.911 40.301C126.195 37.515 127.442 34.0231 127.44 30.4205C127.44 28.3772 127.038 26.3539 126.255 24.4664C125.473 22.5788 124.326 20.8642 122.88 19.4205ZM19.42 100.86C16.8725 103.408 15.2872 106.76 14.9342 110.345C14.5813 113.93 15.4826 117.527 17.4844 120.522C19.4863 123.518 22.4649 125.726 25.9127 126.771C29.3604 127.816 33.0638 127.633 36.3918 126.254C39.7198 124.874 42.4664 122.383 44.1635 119.205C45.8606 116.027 46.4032 112.359 45.6988 108.826C44.9944 105.293 43.0866 102.114 40.3006 99.8296C37.5145 97.5455 34.0227 96.2983 30.42 96.3005C26.2938 96.3018 22.337 97.9421 19.42 100.86ZM100.86 100.86C98.3125 103.408 96.7272 106.76 96.3742 110.345C96.0213 113.93 96.9226 117.527 98.9244 120.522C100.926 123.518 103.905 125.726 107.353 126.771C110.8 127.816 114.504 127.633 117.832 126.254C121.16 124.874 123.906 122.383 125.604 119.205C127.301 116.027 127.843 112.359 127.139 108.826C126.434 105.293 124.527 102.114 121.741 99.8296C118.955 97.5455 115.463 96.2983 111.86 96.3005C109.817 96.299 107.793 96.701 105.905 97.4835C104.018 98.2661 102.303 99.4136 100.86 100.86Z\" fill=\"#00AEEF\"/>\n",
       "    </g>\n",
       "    <defs>\n",
       "        <clipPath id=\"clip0_4338_178347\">\n",
       "            <rect width=\"566.93\" height=\"223.75\" fill=\"white\"/>\n",
       "        </clipPath>\n",
       "    </defs>\n",
       "  </svg>\n",
       "</div>\n",
       "\n",
       "        <table class=\"jp-RenderedHTMLCommon\" style=\"border-collapse: collapse;color: var(--jp-ui-font-color1);font-size: var(--jp-ui-font-size1);\">\n",
       "    <tr>\n",
       "        <td style=\"text-align: left\"><b>Python version:</b></td>\n",
       "        <td style=\"text-align: left\"><b>3.8.13</b></td>\n",
       "    </tr>\n",
       "    <tr>\n",
       "        <td style=\"text-align: left\"><b>Ray version:</b></td>\n",
       "        <td style=\"text-align: left\"><b>2.6.3</b></td>\n",
       "    </tr>\n",
       "    <tr>\n",
       "    <td style=\"text-align: left\"><b>Dashboard:</b></td>\n",
       "    <td style=\"text-align: left\"><b><a href=\"http://session-yn5cwtau135l5cajlbkzrdyqqp.i.anyscaleuserdata-staging.com\" target=\"_blank\">http://session-yn5cwtau135l5cajlbkzrdyqqp.i.anyscaleuserdata-staging.com</a></b></td>\n",
       "</tr>\n",
       "\n",
       "</table>\n",
       "\n",
       "    </div>\n",
       "</div>\n"
      ],
      "text/plain": [
       "RayContext(dashboard_url='session-yn5cwtau135l5cajlbkzrdyqqp.i.anyscaleuserdata-staging.com', python_version='3.8.13', ray_version='2.6.3', ray_commit='8a434b4ee7cd48e60fa1531315d39901fac5d79e', protocol_version=None)"
      ]
     },
     "execution_count": 4,
     "metadata": {},
     "output_type": "execute_result"
    }
   ],
   "source": [
    "# Credentials\n",
    "ray.init(runtime_env={\"env_vars\": {\n",
    "    \"OPENAI_API_BASE\": os.environ[\"OPENAI_API_BASE\"],\n",
    "    \"OPENAI_API_KEY\": os.environ[\"OPENAI_API_KEY\"], \n",
    "    \"ANYSCALE_API_BASE\": os.environ[\"ANYSCALE_API_BASE\"],\n",
    "    \"ANYSCALE_API_KEY\": os.environ[\"ANYSCALE_API_KEY\"],\n",
    "    \"DB_CONNECTION_STRING\": os.environ[\"DB_CONNECTION_STRING\"],\n",
    "}})"
   ]
  },
  {
   "cell_type": "markdown",
   "id": "bab7f73e-bdd1-4c87-93d0-92ece2344432",
   "metadata": {},
   "source": [
    "## Data"
   ]
  },
  {
   "cell_type": "markdown",
   "id": "4c503edd-963a-4ec3-9182-39f7afc44153",
   "metadata": {},
   "source": [
    "### Load data"
   ]
  },
  {
   "cell_type": "markdown",
   "id": "1f82562f-2b5d-4e8d-9716-b0da8670e8bf",
   "metadata": {},
   "source": [
    "Our data is already ready at `/efs/shared_storage/goku/docs.ray.io/en/master/` (on Staging, `us-east-1`) but if you wanted to load it yourself, run this bash command (change `/desired/output/directory`, but make sure it's on the shared storage,\n",
    "so that it's accessible to the workers):\n",
    "```bash\n",
    "export DOCS_PATH=/desired/output/directory\n",
    "wget -e robots=off --recursive --no-clobber --page-requisites \\\n",
    "  --html-extension --convert-links --restrict-file-names=windows \\\n",
    "  --domains docs.ray.io --no-parent --accept=html \\\n",
    "  -P $DOCS_PATH https://docs.ray.io/en/master/\n",
    "```"
   ]
  },
  {
   "cell_type": "code",
   "execution_count": 6,
   "id": "bba6b43b-ea82-4c21-a885-57178cec3b44",
   "metadata": {
    "tags": []
   },
   "outputs": [
    {
     "name": "stdout",
     "output_type": "stream",
     "text": [
      "3282 documents\n"
     ]
    }
   ],
   "source": [
    "# Ray dataset\n",
    "docs_path = Path(EFS_DIR, \"docs.ray.io/en/master/\")\n",
    "ds = ray.data.from_items([{\"path\": path} for path in docs_path.rglob(\"*.html\") if not path.is_dir()])\n",
    "print(f\"{ds.count()} documents\")"
   ]
  },
  {
   "cell_type": "markdown",
   "id": "ba9edff6-6dbf-4037-9675-ae05cd3eb7a7",
   "metadata": {
    "tags": []
   },
   "source": [
    "### Chunk data"
   ]
  },
  {
   "cell_type": "code",
   "execution_count": 7,
   "id": "1dcf792d-369b-4f33-b1a6-2e7b7795becf",
   "metadata": {},
   "outputs": [],
   "source": [
    "from bs4 import BeautifulSoup, NavigableString, Tag"
   ]
  },
  {
   "cell_type": "code",
   "execution_count": 8,
   "id": "73af7603-5d13-49d6-8f22-7ca6c4695549",
   "metadata": {
    "tags": []
   },
   "outputs": [],
   "source": [
    "def extract_text_from_section(section):\n",
    "    texts = []\n",
    "    for elem in section.children:\n",
    "        if isinstance(elem, NavigableString):\n",
    "            if elem.strip():\n",
    "                texts.append(elem.strip())\n",
    "        elif elem.name == 'section':\n",
    "            continue\n",
    "        else:\n",
    "            texts.append(elem.get_text().strip())\n",
    "    return '\\n'.join(texts)"
   ]
  },
  {
   "cell_type": "code",
   "execution_count": 9,
   "id": "76e97191-097d-417d-8cf7-3bd2c6aa31ce",
   "metadata": {
    "tags": []
   },
   "outputs": [],
   "source": [
    "def path_to_uri(path, scheme=\"https://\", domain=\"docs.ray.io\"):\n",
    "    return scheme + domain + str(path).split(domain)[-1]"
   ]
  },
  {
   "cell_type": "code",
   "execution_count": 10,
   "id": "96e875f9-44bb-4c82-8215-10861f36af7a",
   "metadata": {
    "tags": []
   },
   "outputs": [],
   "source": [
    "def extract_sections(record):\n",
    "    with open(record[\"path\"], \"r\", encoding=\"utf-8\") as html_file:\n",
    "        soup = BeautifulSoup(html_file, \"html.parser\")\n",
    "    sections = soup.find_all(\"section\")\n",
    "    section_list = []\n",
    "    for section in sections:\n",
    "        section_id = section.get(\"id\")\n",
    "        section_text = extract_text_from_section(section)\n",
    "        if section_id:\n",
    "            uri = path_to_uri(path=record[\"path\"])\n",
    "            section_list.append({\"source\": f\"{uri}#{section_id}\", \"text\": section_text})\n",
    "    return section_list"
   ]
  },
  {
   "cell_type": "code",
   "execution_count": 11,
   "id": "2a8033de-2508-4030-a9a1-d6c792d5542a",
   "metadata": {
    "tags": []
   },
   "outputs": [
    {
     "data": {
      "text/plain": [
       "{'source': 'https://docs.ray.io/en/master/rllib/rllib-env.html#environments',\n",
       " 'text': '\\nEnvironments#\\nRLlib works with several different types of environments, including Farama-Foundation Gymnasium, user-defined, multi-agent, and also batched environments.\\nTip\\nNot all environments work with all algorithms. Check out the algorithm overview for more information.\\n'}"
      ]
     },
     "execution_count": 11,
     "metadata": {},
     "output_type": "execute_result"
    }
   ],
   "source": [
    "html_file_path = Path(EFS_DIR, \"docs.ray.io/en/master/rllib/rllib-env.html\")\n",
    "extract_sections({\"path\": html_file_path})[0]"
   ]
  },
  {
   "cell_type": "code",
   "execution_count": 12,
   "id": "f4739d56-ddfe-42e5-9113-3d83d737999a",
   "metadata": {
    "tags": []
   },
   "outputs": [
    {
     "name": "stderr",
     "output_type": "stream",
     "text": [
      "2023-09-04 12:33:41,071\tINFO streaming_executor.py:92 -- Executing DAG InputDataBuffer[Input] -> TaskPoolMapOperator[FlatMap(extract_sections)]\n",
      "2023-09-04 12:33:41,072\tINFO streaming_executor.py:93 -- Execution config: ExecutionOptions(resource_limits=ExecutionResources(cpu=None, gpu=None, object_store_memory=None), locality_with_output=False, preserve_order=False, actor_locality_enabled=True, verbose_progress=False)\n",
      "2023-09-04 12:33:41,074\tINFO streaming_executor.py:95 -- Tip: For detailed progress reporting, run `ray.data.DataContext.get_current().execution_options.verbose_progress = True`\n"
     ]
    },
    {
     "data": {
      "application/vnd.jupyter.widget-view+json": {
       "model_id": "",
       "version_major": 2,
       "version_minor": 0
      },
      "text/plain": [
       "Running 0:   0%|          | 0/200 [00:00<?, ?it/s]"
      ]
     },
     "metadata": {},
     "output_type": "display_data"
    },
    {
     "name": "stdout",
     "output_type": "stream",
     "text": [
      "5727\n"
     ]
    }
   ],
   "source": [
    "# Extract sections\n",
    "sections_ds = ds.flat_map(extract_sections)\n",
    "sections = sections_ds.take_all()\n",
    "print (len(sections))"
   ]
  },
  {
   "cell_type": "code",
   "execution_count": 13,
   "id": "97ca89ce-97dd-4462-8dfb-e06154c56ea2",
   "metadata": {
    "tags": []
   },
   "outputs": [],
   "source": [
    "from langchain.document_loaders import ReadTheDocsLoader\n",
    "from langchain.text_splitter import RecursiveCharacterTextSplitter"
   ]
  },
  {
   "cell_type": "code",
   "execution_count": 14,
   "id": "6b6337e6-07b2-459d-a666-45de3aa945c4",
   "metadata": {
    "tags": []
   },
   "outputs": [],
   "source": [
    "chunk_size = 300\n",
    "chunk_overlap = 50\n",
    "text_splitter = RecursiveCharacterTextSplitter(\n",
    "    separators=[\"\\n\\n\", \"\\n\", \" \", \"\"],\n",
    "    chunk_size=chunk_size,\n",
    "    chunk_overlap=chunk_overlap,\n",
    "    length_function=len,\n",
    ")"
   ]
  },
  {
   "cell_type": "code",
   "execution_count": 15,
   "id": "54966d0f-33ee-4503-9f40-a673710950bc",
   "metadata": {
    "tags": []
   },
   "outputs": [],
   "source": [
    "# Chunks\n",
    "chunks = text_splitter.create_documents(\n",
    "    texts=[section[\"text\"] for section in sections], \n",
    "    metadatas=[{\"source\": section[\"source\"]} for section in sections]\n",
    ")"
   ]
  },
  {
   "cell_type": "code",
   "execution_count": 16,
   "id": "d85f61be-b2ce-4f1e-aaf9-36cd3ec5aed8",
   "metadata": {
    "tags": []
   },
   "outputs": [
    {
     "name": "stdout",
     "output_type": "stream",
     "text": [
      "32276 chunks\n",
      "\n",
      "('Reference#\\n'\n",
      " 'Monitor and debug your Ray applications and clusters using the API and CLI '\n",
      " 'documented in these references.\\n'\n",
      " 'The guides include:\\n'\n",
      " 'State API\\n'\n",
      " 'State CLI\\n'\n",
      " 'System Metrics')\n",
      "\n",
      "metadata:\n",
      "{'source': 'https://docs.ray.io/en/master/ray-observability/reference/index.html#reference'}\n"
     ]
    }
   ],
   "source": [
    "print (f\"{len(chunks)} chunks\\n\")\n",
    "pprint (chunks[0].page_content)\n",
    "print (f\"\\nmetadata:\\n{chunks[0].metadata}\")"
   ]
  },
  {
   "cell_type": "code",
   "execution_count": 17,
   "id": "5be23c62-3108-49be-994d-5aa033162c71",
   "metadata": {
    "tags": []
   },
   "outputs": [
    {
     "name": "stderr",
     "output_type": "stream",
     "text": [
      "2023-09-04 12:34:39,845\tINFO dataset.py:2180 -- Tip: Use `take_batch()` instead of `take() / show()` to return records in pandas or numpy batch format.\n"
     ]
    },
    {
     "name": "stdout",
     "output_type": "stream",
     "text": [
      "{'text': 'Reference#\\nMonitor and debug your Ray applications and clusters using the API and CLI documented in these references.\\nThe guides include:\\nState API\\nState CLI\\nSystem Metrics', 'source': 'https://docs.ray.io/en/master/ray-observability/reference/index.html#reference'}\n"
     ]
    }
   ],
   "source": [
    "# Ray dataset\n",
    "chunks_ds = ray.data.from_items([{\"text\": chunk.page_content, \"source\": chunk.metadata[\"source\"]} for chunk in chunks])\n",
    "chunks_ds.show(1)"
   ]
  },
  {
   "cell_type": "markdown",
   "id": "d9c23b31-e7b3-4078-abf7-683f448f5b19",
   "metadata": {},
   "source": [
    "### Embed data"
   ]
  },
  {
   "cell_type": "code",
   "execution_count": 18,
   "id": "712fe08b-fd19-4cb8-94d9-a7570b2dc09d",
   "metadata": {
    "tags": []
   },
   "outputs": [],
   "source": [
    "from langchain.embeddings import OpenAIEmbeddings\n",
    "from langchain.embeddings.huggingface import HuggingFaceEmbeddings\n",
    "import numpy as np\n",
    "from ray.data import ActorPoolStrategy"
   ]
  },
  {
   "cell_type": "code",
   "execution_count": 19,
   "id": "83b6a5a3-cd2d-4987-838a-be13e9553080",
   "metadata": {
    "tags": []
   },
   "outputs": [],
   "source": [
    "class EmbedChunks:\n",
    "    def __init__(self, model_name):\n",
    "        model_kwargs = {\"device\": \"cuda\"}\n",
    "        encode_kwargs = {\"device\": \"cuda\", \"batch_size\": 100}\n",
    "        if model_name == \"text-embedding-ada-002\":\n",
    "            self.embedding_model = OpenAIEmbeddings(\n",
    "                model=model_name,\n",
    "                model_kwargs=model_kwargs,\n",
    "                encode_kwargs=encode_kwargs,\n",
    "                openai_api_base=os.environ[\"OPENAI_API_BASE\"],\n",
    "                openai_api_key=os.environ[\"OPENAI_API_KEY\"])\n",
    "        else:\n",
    "            self.embedding_model = HuggingFaceEmbeddings(\n",
    "                model_name=model_name,\n",
    "                model_kwargs=model_kwargs,\n",
    "                encode_kwargs=encode_kwargs)\n",
    "    \n",
    "    def __call__(self, batch):\n",
    "        embeddings = self.embedding_model.embed_documents(batch[\"text\"])\n",
    "        return {\"text\": batch[\"text\"], \"source\": batch[\"source\"], \"embeddings\": embeddings}"
   ]
  },
  {
   "cell_type": "code",
   "execution_count": 20,
   "id": "9715a01e-dc67-4342-a0cb-30e770852097",
   "metadata": {
    "tags": []
   },
   "outputs": [],
   "source": [
    "# Embed chunks\n",
    "embedding_model_name = \"thenlper/gte-base\"\n",
    "embedded_chunks = chunks_ds.map_batches(\n",
    "    EmbedChunks,\n",
    "    fn_constructor_kwargs={\"model_name\": embedding_model_name},\n",
    "    batch_size=100, \n",
    "    num_gpus=1,\n",
    "    compute=ActorPoolStrategy(size=2))"
   ]
  },
  {
   "cell_type": "code",
   "execution_count": 22,
   "id": "67dffa1f-19a3-4411-af3f-b161a47ee164",
   "metadata": {
    "tags": []
   },
   "outputs": [
    {
     "name": "stderr",
     "output_type": "stream",
     "text": [
      "2023-09-04 12:36:36,645\tINFO streaming_executor.py:92 -- Executing DAG InputDataBuffer[Input] -> ActorPoolMapOperator[MapBatches(EmbedChunks)]\n",
      "2023-09-04 12:36:36,646\tINFO streaming_executor.py:93 -- Execution config: ExecutionOptions(resource_limits=ExecutionResources(cpu=None, gpu=None, object_store_memory=None), locality_with_output=False, preserve_order=False, actor_locality_enabled=True, verbose_progress=False)\n",
      "2023-09-04 12:36:36,647\tINFO streaming_executor.py:95 -- Tip: For detailed progress reporting, run `ray.data.DataContext.get_current().execution_options.verbose_progress = True`\n",
      "2023-09-04 12:36:36,663\tINFO actor_pool_map_operator.py:117 -- MapBatches(EmbedChunks): Waiting for 2 pool actors to start...\n"
     ]
    },
    {
     "data": {
      "application/vnd.jupyter.widget-view+json": {
       "model_id": "",
       "version_major": 2,
       "version_minor": 0
      },
      "text/plain": [
       "Running 0:   0%|          | 0/200 [00:00<?, ?it/s]"
      ]
     },
     "metadata": {},
     "output_type": "display_data"
    },
    {
     "name": "stderr",
     "output_type": "stream",
     "text": [
      "2023-09-04 12:36:59,254\tWARNING actor_pool_map_operator.py:267 -- To ensure full parallelization across an actor pool of size 2, the specified batch size should be at most 81. Your configured batch size for this operator was 100.\n"
     ]
    },
    {
     "name": "stdout",
     "output_type": "stream",
     "text": [
      "embedding size: 768\n",
      "('It is equivalent to PENDING_CREATION,\\n'\n",
      " 'but means the actor was dead more than once.\\n'\n",
      " 'DEAD: The actor is permanatly dead.')\n"
     ]
    }
   ],
   "source": [
    "# Sample\n",
    "sample = embedded_chunks.take(1)\n",
    "print (\"embedding size:\", len(sample[0][\"embeddings\"]))\n",
    "pprint(sample[0][\"text\"])"
   ]
  },
  {
   "cell_type": "markdown",
   "id": "09187588-e1dc-44c5-b88b-cc8ebe3f9c48",
   "metadata": {},
   "source": [
    "### Index data"
   ]
  },
  {
   "cell_type": "code",
   "execution_count": 23,
   "id": "bb6bf17c-da04-4bd8-af2f-dc79e4e27913",
   "metadata": {
    "tags": []
   },
   "outputs": [],
   "source": [
    "import psycopg\n",
    "from pgvector.psycopg import register_vector"
   ]
  },
  {
   "cell_type": "code",
   "execution_count": null,
   "id": "c7ae20ca-1371-48d6-bc84-6d11a425c3f5",
   "metadata": {
    "tags": []
   },
   "outputs": [],
   "source": [
    "%%bash\n",
    "# Set up pgvector\n",
    "bash ../setup-pgvector.sh"
   ]
  },
  {
   "cell_type": "code",
   "execution_count": 162,
   "id": "806b47aa-f3c1-44d3-b041-a3a4f0867653",
   "metadata": {
    "tags": []
   },
   "outputs": [
    {
     "name": "stdout",
     "output_type": "stream",
     "text": [
      "huggingface/tokenizers: The current process just got forked, after parallelism has already been used. Disabling parallelism to avoid deadlocks...\n",
      "To disable this warning, you can either:\n",
      "\t- Avoid using `tokenizers` before the fork if possible\n",
      "\t- Explicitly set the environment variable TOKENIZERS_PARALLELISM=(true | false)\n",
      "DROP TABLE\n",
      "CREATE TABLE\n"
     ]
    }
   ],
   "source": [
    "%%bash\n",
    "# Drop existing table if it exists\n",
    "psql \"$DB_CONNECTION_STRING\" -c \"DROP TABLE IF EXISTS document;\"\n",
    "sudo -u postgres psql -f ../migrations/vector-768.sql  # \"thenlper/gte-base\" dimension is 768"
   ]
  },
  {
   "cell_type": "markdown",
   "id": "5d134747-df16-4a66-91b6-ed361dae1349",
   "metadata": {},
   "source": [
    "If we have already created an index (and saved it), we can reload it:"
   ]
  },
  {
   "cell_type": "code",
   "execution_count": 163,
   "id": "822bcf2f-6c48-4624-837b-7a20f87ff22f",
   "metadata": {
    "tags": []
   },
   "outputs": [
    {
     "name": "stdout",
     "output_type": "stream",
     "text": [
      "huggingface/tokenizers: The current process just got forked, after parallelism has already been used. Disabling parallelism to avoid deadlocks...\n",
      "To disable this warning, you can either:\n",
      "\t- Avoid using `tokenizers` before the fork if possible\n",
      "\t- Explicitly set the environment variable TOKENIZERS_PARALLELISM=(true | false)\n",
      "/efs/shared_storage/goku/sql_dumps/gte-base_300_50.sql\n",
      "SET\n",
      "SET\n",
      "SET\n",
      "SET\n",
      "SET\n",
      " set_config \n",
      "------------\n",
      " \n",
      "(1 row)\n",
      "\n",
      "SET\n",
      "SET\n",
      "SET\n",
      "SET\n",
      "ALTER TABLE\n",
      "ALTER TABLE\n",
      "DROP SEQUENCE\n",
      "DROP TABLE\n",
      "DROP EXTENSION\n",
      "CREATE EXTENSION\n",
      "COMMENT\n",
      "SET\n",
      "SET\n",
      "CREATE TABLE\n",
      "ALTER TABLE\n",
      "CREATE SEQUENCE\n",
      "ALTER TABLE\n",
      "ALTER SEQUENCE\n",
      "ALTER TABLE\n",
      "COPY 32276\n",
      " setval \n",
      "--------\n",
      "  32276\n",
      "(1 row)\n",
      "\n",
      "ALTER TABLE\n"
     ]
    }
   ],
   "source": [
    "%%bash\n",
    "# Load index\n",
    "export SQL_DUMP_FP=\"/efs/shared_storage/goku/sql_dumps/gte-base_300_50.sql\"\n",
    "echo $SQL_DUMP_FP\n",
    "psql \"$DB_CONNECTION_STRING\" -f $SQL_DUMP_FP  # load"
   ]
  },
  {
   "cell_type": "code",
   "execution_count": 164,
   "id": "a94233d0-1d1e-43c5-9ce8-7960bb1154be",
   "metadata": {},
   "outputs": [
    {
     "name": "stdout",
     "output_type": "stream",
     "text": [
      "huggingface/tokenizers: The current process just got forked, after parallelism has already been used. Disabling parallelism to avoid deadlocks...\n",
      "To disable this warning, you can either:\n",
      "\t- Avoid using `tokenizers` before the fork if possible\n",
      "\t- Explicitly set the environment variable TOKENIZERS_PARALLELISM=(true | false)\n",
      " count \n",
      "-------\n",
      " 32276\n",
      "(1 row)\n",
      "\n"
     ]
    }
   ],
   "source": [
    "%%bash\n",
    "psql \"$DB_CONNECTION_STRING\" -c \"SELECT count(*) FROM document;\""
   ]
  },
  {
   "cell_type": "markdown",
   "id": "3fe36601-1269-482b-9bac-b52b32fb338e",
   "metadata": {},
   "source": [
    "otherwise, we can index the data and save it:"
   ]
  },
  {
   "cell_type": "code",
   "execution_count": 159,
   "id": "21480e47-4a17-49d8-b4e7-c301e8040a69",
   "metadata": {
    "tags": []
   },
   "outputs": [],
   "source": [
    "class StoreResults:\n",
    "    def __call__(self, batch):\n",
    "        with psycopg.connect(os.environ[\"DB_CONNECTION_STRING\"]) as conn:\n",
    "            register_vector(conn)\n",
    "            with conn.cursor() as cur:\n",
    "                for text, source, embedding in zip(batch[\"text\"], batch[\"source\"], batch[\"embeddings\"]):\n",
    "                    cur.execute(\"INSERT INTO document (text, source, embedding) VALUES (%s, %s, %s)\", (text, source, embedding,),)\n",
    "        return {}"
   ]
  },
  {
   "cell_type": "code",
   "execution_count": 160,
   "id": "9c4582d9-40ba-4a94-81ac-259b3851f837",
   "metadata": {
    "tags": []
   },
   "outputs": [
    {
     "name": "stderr",
     "output_type": "stream",
     "text": [
      "2023-09-04 15:34:51,436\tINFO streaming_executor.py:92 -- Executing DAG InputDataBuffer[Input] -> ActorPoolMapOperator[MapBatches(EmbedChunks)] -> ActorPoolMapOperator[MapBatches(StoreResults)]\n",
      "2023-09-04 15:34:51,439\tINFO streaming_executor.py:93 -- Execution config: ExecutionOptions(resource_limits=ExecutionResources(cpu=None, gpu=None, object_store_memory=None), locality_with_output=False, preserve_order=False, actor_locality_enabled=True, verbose_progress=False)\n",
      "2023-09-04 15:34:51,440\tINFO streaming_executor.py:95 -- Tip: For detailed progress reporting, run `ray.data.DataContext.get_current().execution_options.verbose_progress = True`\n",
      "2023-09-04 15:34:51,465\tINFO actor_pool_map_operator.py:117 -- MapBatches(EmbedChunks): Waiting for 2 pool actors to start...\n",
      "2023-09-04 15:35:10,444\tINFO actor_pool_map_operator.py:117 -- MapBatches(StoreResults): Waiting for 28 pool actors to start...\n"
     ]
    },
    {
     "data": {
      "application/vnd.jupyter.widget-view+json": {
       "model_id": "",
       "version_major": 2,
       "version_minor": 0
      },
      "text/plain": [
       "Running 0:   0%|          | 0/200 [00:00<?, ?it/s]"
      ]
     },
     "metadata": {},
     "output_type": "display_data"
    },
    {
     "name": "stderr",
     "output_type": "stream",
     "text": [
      "2023-09-04 15:39:50,404\tWARNING actor_pool_map_operator.py:267 -- To ensure full parallelization across an actor pool of size 28, the specified batch size should be at most 0. Your configured batch size for this operator was 128.\n"
     ]
    },
    {
     "data": {
      "text/plain": [
       "0"
      ]
     },
     "execution_count": 160,
     "metadata": {},
     "output_type": "execute_result"
    }
   ],
   "source": [
    "# Index data\n",
    "embedded_chunks.map_batches(\n",
    "    StoreResults,\n",
    "    batch_size=128,\n",
    "    num_cpus=1,\n",
    "    compute=ActorPoolStrategy(size=28),\n",
    ").count()"
   ]
  },
  {
   "cell_type": "code",
   "execution_count": 161,
   "id": "40925cd6-41e8-4651-9692-aeb399b68af6",
   "metadata": {
    "tags": []
   },
   "outputs": [
    {
     "name": "stdout",
     "output_type": "stream",
     "text": [
      "huggingface/tokenizers: The current process just got forked, after parallelism has already been used. Disabling parallelism to avoid deadlocks...\n",
      "To disable this warning, you can either:\n",
      "\t- Avoid using `tokenizers` before the fork if possible\n",
      "\t- Explicitly set the environment variable TOKENIZERS_PARALLELISM=(true | false)\n"
     ]
    }
   ],
   "source": [
    "%%bash\n",
    "# Save index\n",
    "export SQL_DUMP_FP=\"/efs/shared_storage/goku/sql_dumps/gte-base_300_50.sql\"\n",
    "mkdir -p $(dirname \"$SQL_DUMP_FP\") && touch $SQL_DUMP_FP\n",
    "sudo -u postgres pg_dump -c > $SQL_DUMP_FP  # save"
   ]
  },
  {
   "cell_type": "markdown",
   "id": "318798c3-d119-4eb5-ad81-b2834516151a",
   "metadata": {},
   "source": [
    "## Retrieval"
   ]
  },
  {
   "cell_type": "code",
   "execution_count": 165,
   "id": "480d4c49-5870-471e-a617-86f7d3fa13d0",
   "metadata": {
    "tags": []
   },
   "outputs": [],
   "source": [
    "import json\n",
    "import numpy as np"
   ]
  },
  {
   "cell_type": "code",
   "execution_count": 166,
   "id": "39c3f410-89a2-4992-8cd1-63aca5bf9936",
   "metadata": {
    "tags": []
   },
   "outputs": [
    {
     "data": {
      "text/plain": [
       "768"
      ]
     },
     "execution_count": 166,
     "metadata": {},
     "output_type": "execute_result"
    }
   ],
   "source": [
    "# Embed query\n",
    "embedding_model = HuggingFaceEmbeddings(model_name=embedding_model_name)\n",
    "query = \"What is the default batch size for map_batches?\"\n",
    "embedding = np.array(embedding_model.embed_query(query))\n",
    "len(embedding)"
   ]
  },
  {
   "cell_type": "code",
   "execution_count": 179,
   "id": "b0197e98-5fee-4be0-bdf5-2d975216aa4b",
   "metadata": {
    "tags": []
   },
   "outputs": [
    {
     "name": "stdout",
     "output_type": "stream",
     "text": [
      "https://docs.ray.io/en/master/data/api/doc/ray.data.Dataset.map_batches.html#ray-data-dataset-map-batches\n",
      "entire blocks as batches (blocks may contain different numbers of rows).\n",
      "The actual size of the batch provided to fn may be smaller than\n",
      "batch_size if batch_size doesn’t evenly divide the block(s) sent\n",
      "to a given map task. Default batch_size is 4096 with “default”.\n",
      "\n",
      "https://docs.ray.io/en/master/data/transforming-data.html#configuring-batch-size\n",
      "batch_size.\n",
      "Note\n",
      "The default batch size depends on your resource type. If you’re using CPUs,\n",
      "the default batch size is 4096. If you’re using GPUs, you must specify an explicit\n",
      "batch size.\n",
      "\n",
      "https://docs.ray.io/en/master/data/batch_inference.html#configuring-batch-size\n",
      "# Specify that each input batch should be of size 2.\n",
      "ds.map_batches(assert_batch, batch_size=2)\n",
      "Caution\n",
      "The default batch_size of 4096 may be too large for datasets with large rows\n",
      "(for example, tables with many columns or a collection of large images).\n",
      "\n",
      "https://docs.ray.io/en/master/data/batch_inference.html#configuring-batch-size\n",
      "Configuring Batch Size#\n",
      "Configure the size of the input batch that’s passed to __call__ by setting the batch_size argument for ds.map_batches()\n",
      "\n",
      "https://docs.ray.io/en/master/tune/getting-started.html#setting-up-a-tuner-for-a-training-run-with-tune\n",
      "batch_size=64,\n",
      "        shuffle=True)\n",
      "\n"
     ]
    }
   ],
   "source": [
    "# Get context\n",
    "num_chunks = 5\n",
    "with psycopg.connect(os.environ[\"DB_CONNECTION_STRING\"]) as conn:\n",
    "    register_vector(conn)\n",
    "    with conn.cursor() as cur:\n",
    "        cur.execute(\"SELECT * FROM document ORDER BY embedding <-> %s LIMIT %s\", (embedding, num_chunks))\n",
    "        rows = cur.fetchall()\n",
    "        context = [{\"text\": row[1]} for row in rows]\n",
    "        sources = [row[2] for row in rows]\n",
    "for i, item in enumerate(context):\n",
    "    print (sources[i])\n",
    "    print (item[\"text\"])\n",
    "    print ()"
   ]
  },
  {
   "cell_type": "markdown",
   "id": "f5738d23-91e3-4016-826e-716872f76b62",
   "metadata": {
    "tags": []
   },
   "source": [
    "## Generation"
   ]
  },
  {
   "cell_type": "code",
   "execution_count": 172,
   "id": "b55cc1d7-e110-4d9d-abc4-36576db25f92",
   "metadata": {
    "tags": []
   },
   "outputs": [],
   "source": [
    "import time"
   ]
  },
  {
   "cell_type": "code",
   "execution_count": 173,
   "id": "697e65e8-4d69-4870-9f09-0e128008b94e",
   "metadata": {
    "tags": []
   },
   "outputs": [],
   "source": [
    "def generate_response(\n",
    "    llm, temperature=0.0, \n",
    "    system_content=\"\", assistant_content=\"\", user_content=\"\", \n",
    "    max_retries=3, retry_interval=60):\n",
    "    \"\"\"Generate response from an LLM.\"\"\"\n",
    "    retry_count = 0\n",
    "    while retry_count < max_retries:\n",
    "        try:\n",
    "            response = openai.ChatCompletion.create(\n",
    "                model=llm,\n",
    "                temperature=temperature,\n",
    "                messages=[\n",
    "                    {\"role\": \"system\", \"content\": system_content},\n",
    "                    {\"role\": \"assistant\", \"content\": assistant_content},\n",
    "                    {\"role\": \"user\", \"content\": user_content},\n",
    "                ],\n",
    "            )\n",
    "            return response[\"choices\"][-1][\"message\"][\"content\"]\n",
    "        except Exception as e:\n",
    "            print(e)\n",
    "            time.sleep(retry_interval)  # default is per-minute rate limits\n",
    "            retry_count += 1\n",
    "    return \"\""
   ]
  },
  {
   "cell_type": "code",
   "execution_count": 174,
   "id": "b76e2b44-dfdf-4f98-ba01-dda13e7c1677",
   "metadata": {
    "tags": []
   },
   "outputs": [],
   "source": [
    "# Credentials\n",
    "openai.api_base = os.environ[\"ANYSCALE_API_BASE\"]\n",
    "openai.api_key = os.environ[\"ANYSCALE_API_KEY\"]"
   ]
  },
  {
   "cell_type": "code",
   "execution_count": 175,
   "id": "9de3685b-6839-445f-9baa-68a5e863562a",
   "metadata": {
    "tags": []
   },
   "outputs": [
    {
     "data": {
      "text/plain": [
       "'The default batch size for map_batches is 4096. However, this may not always be the actual size of the batch provided to the function, as the batch size may need to be adjusted to fit the block size of the data being processed. The default batch size can be overridden by specifying a different value for the batch_size argument when calling map_batches. Note that the default batch size may vary depending on the resource type being used, with a default of 4096 for CPUs and a requirement for an explicit batch size specification when using GPUs.'"
      ]
     },
     "execution_count": 175,
     "metadata": {},
     "output_type": "execute_result"
    }
   ],
   "source": [
    "# Generate response\n",
    "generate_response(\n",
    "    llm=\"meta-llama/Llama-2-70b-chat-hf\",\n",
    "    temperature=0.0,\n",
    "    system_content=\"Answer the query using the context provided.\",\n",
    "    user_content=f\"query: {query}, context: {context}\"\n",
    ")"
   ]
  },
  {
   "cell_type": "markdown",
   "id": "bad51191-19d1-40d5-bbc8-72245fafd154",
   "metadata": {},
   "source": [
    "Let's combine the context retrieval and response generation together into a conventient query agent that we can use to easily generate our responses."
   ]
  },
  {
   "cell_type": "code",
   "execution_count": 180,
   "id": "ffcc892a-ceee-487a-aecf-db116f53e89f",
   "metadata": {
    "tags": []
   },
   "outputs": [],
   "source": [
    "class QueryAgent:\n",
    "    def __init__(self, embedding_model_name=\"thenlper/gte-base\",\n",
    "                 llm=\"meta-llama/Llama-2-70b-chat-hf\", \n",
    "                 temperature=0.0, max_context_length=4096,\n",
    "                 system_content=\"\", assistant_content=\"\"):\n",
    "        \n",
    "        # Embedding model\n",
    "        model_kwargs = {\"device\": \"cuda\"}\n",
    "        encode_kwargs = {\"device\": \"cuda\", \"batch_size\": 100}\n",
    "        if embedding_model_name == \"text-embedding-ada-002\":\n",
    "            self.embedding_model = OpenAIEmbeddings(\n",
    "                model=embedding_model_name,\n",
    "                model_kwargs=model_kwargs,\n",
    "                encode_kwargs=encode_kwargs,\n",
    "                openai_api_base=os.environ[\"OPENAI_API_BASE\"],\n",
    "                openai_api_key=os.environ[\"OPENAI_API_KEY\"])\n",
    "        else:\n",
    "            self.embedding_model = HuggingFaceEmbeddings(\n",
    "                model_name=embedding_model_name,\n",
    "                model_kwargs=model_kwargs,\n",
    "                encode_kwargs=encode_kwargs)\n",
    "        \n",
    "        # LLM\n",
    "        self.llm = llm\n",
    "        self.temperature = temperature\n",
    "        self.context_length = max_context_length - len(system_content + assistant_content)\n",
    "        self.system_content = system_content\n",
    "        self.assistant_content = assistant_content\n",
    "\n",
    "    def __call__(self, query, num_chunks=5):\n",
    "        # Get context\n",
    "        embedding = np.array(self.embedding_model.embed_query(query))\n",
    "        with psycopg.connect(os.environ[\"DB_CONNECTION_STRING\"]) as conn:\n",
    "            register_vector(conn)\n",
    "            with conn.cursor() as cur:\n",
    "                cur.execute(\"SELECT * FROM document ORDER BY embedding <-> %s LIMIT %s\", (embedding, num_chunks))\n",
    "                rows = cur.fetchall()\n",
    "                context = [{\"text\": row[1]} for row in rows]\n",
    "                sources = [row[2] for row in rows]\n",
    "            \n",
    "        # Generate response\n",
    "        user_content = f\"query: {query}, context: {context}\"\n",
    "        answer = generate_response(\n",
    "            llm=self.llm,\n",
    "            temperature=self.temperature,\n",
    "            system_content=self.system_content,\n",
    "            assistant_content=self.assistant_content,\n",
    "            user_content=user_content[: self.context_length],\n",
    "        )\n",
    "\n",
    "        # Result\n",
    "        result = {\n",
    "            \"question\": query,\n",
    "            \"sources\": sources,\n",
    "            \"answer\": answer,\n",
    "        }\n",
    "        return result"
   ]
  },
  {
   "cell_type": "code",
   "execution_count": 181,
   "id": "ad3b1224-922b-40b5-9979-9075c6ef100e",
   "metadata": {
    "tags": []
   },
   "outputs": [
    {
     "name": "stdout",
     "output_type": "stream",
     "text": [
      "{\n",
      "  \"question\": \"What is the default batch size for map_batches?\",\n",
      "  \"sources\": [\n",
      "    \"https://docs.ray.io/en/master/data/api/doc/ray.data.Dataset.map_batches.html#ray-data-dataset-map-batches\",\n",
      "    \"https://docs.ray.io/en/master/data/transforming-data.html#configuring-batch-size\",\n",
      "    \"https://docs.ray.io/en/master/data/batch_inference.html#configuring-batch-size\",\n",
      "    \"https://docs.ray.io/en/master/data/batch_inference.html#configuring-batch-size\",\n",
      "    \"https://docs.ray.io/en/master/tune/getting-started.html#setting-up-a-tuner-for-a-training-run-with-tune\"\n",
      "  ],\n",
      "  \"answer\": \"Based on the provided context, the default batch size for `map_batches` is 4096. However, it's important to note that the default batch size may vary depending on the resource type being used. If using CPUs, the default batch size is 4096, while if using GPUs, an explicit batch size must be specified. Additionally, it's recommended to use a smaller batch size for datasets with large rows, such as tables with many columns or a collection of large images, to avoid overwhelming the system.\"\n",
      "}\n"
     ]
    }
   ],
   "source": [
    "query = \"What is the default batch size for map_batches?\"\n",
    "system_content = \"Answer the query using the context provided.\"\n",
    "agent = QueryAgent(\n",
    "    embedding_model_name=\"thenlper/gte-base\",\n",
    "    llm=\"meta-llama/Llama-2-7b-chat-hf\",\n",
    "    max_context_length=4096,\n",
    "    system_content=system_content,\n",
    ")\n",
    "result = agent(query=query)\n",
    "print(json.dumps(result, indent=2))"
   ]
  },
  {
   "cell_type": "markdown",
   "id": "4fa7a068-fc77-4928-bf58-52321616f9d5",
   "metadata": {},
   "source": [
    "## Datasets"
   ]
  },
  {
   "cell_type": "code",
   "execution_count": 182,
   "id": "5f4c0aab-22b9-4c5a-92fe-60a532a4a84e",
   "metadata": {
    "tags": []
   },
   "outputs": [],
   "source": [
    "openai.api_base = os.environ[\"OPENAI_API_BASE\"]\n",
    "openai.api_key = os.environ[\"OPENAI_API_KEY\"]"
   ]
  },
  {
   "cell_type": "markdown",
   "id": "e484c4c4-583d-473d-962b-15f9585b76b7",
   "metadata": {},
   "source": [
    "### Synthetic"
   ]
  },
  {
   "cell_type": "code",
   "execution_count": 183,
   "id": "30844ad6-adb6-43d8-af54-0604e7942816",
   "metadata": {
    "tags": []
   },
   "outputs": [],
   "source": [
    "num_questions = 3\n",
    "system_content = f\"\"\"\n",
    "Create {num_questions} questions using only the context provided.\n",
    "End each question with a '?' character and then in a newline write the answer to that question using only the context provided.\n",
    "Separate each question/answer pair by a newline.\n",
    "\"\"\""
   ]
  },
  {
   "cell_type": "code",
   "execution_count": 184,
   "id": "51b0e827-5eaa-4c52-b52e-0d46f39a3666",
   "metadata": {
    "tags": []
   },
   "outputs": [],
   "source": [
    "# Generate questions\n",
    "synthetic_data = []\n",
    "for chunk in chunks[:3]:  # small samples\n",
    "    response = generate_response(\n",
    "        llm=\"gpt-4\",\n",
    "        temperature=0.0,\n",
    "        system_content=system_content,\n",
    "        user_content=f\"context: {chunk.page_content}\"\n",
    "    )\n",
    "    entries = response.split(\"\\n\\n\")\n",
    "    for entry in entries:\n",
    "        question, answer = entry.split(\"\\n\")\n",
    "        synthetic_data.append({\"question\": question, \"source\": chunk.metadata[\"source\"], \"answer\": answer})"
   ]
  },
  {
   "cell_type": "code",
   "execution_count": 185,
   "id": "f083eaf6-6c0e-4e8d-a4a2-cc32bea470af",
   "metadata": {
    "tags": []
   },
   "outputs": [
    {
     "data": {
      "text/plain": [
       "[{'question': 'What can you use to monitor and debug your Ray applications and clusters?',\n",
       "  'source': 'https://docs.ray.io/en/master/ray-observability/reference/index.html#reference',\n",
       "  'answer': 'You can use the API and CLI documented in the references to monitor and debug your Ray applications and clusters.'},\n",
       " {'question': 'What are the guides included in the references?',\n",
       "  'source': 'https://docs.ray.io/en/master/ray-observability/reference/index.html#reference',\n",
       "  'answer': 'The guides included in the references are State API, State CLI, and System Metrics.'},\n",
       " {'question': 'What are the three guides mentioned in the context?',\n",
       "  'source': 'https://docs.ray.io/en/master/ray-observability/reference/index.html#reference',\n",
       "  'answer': 'The three guides mentioned in the context are State API, State CLI, and System Metrics.'}]"
      ]
     },
     "execution_count": 185,
     "metadata": {},
     "output_type": "execute_result"
    }
   ],
   "source": [
    "synthetic_data[:3]"
   ]
  },
  {
   "cell_type": "markdown",
   "id": "f00e3013-9143-4adf-a417-b7fca020f4aa",
   "metadata": {},
   "source": [
    "### Manual"
   ]
  },
  {
   "cell_type": "markdown",
   "id": "03acb7e0-7bcb-4e2f-8552-5fe182a278db",
   "metadata": {},
   "source": [
    "Now we'll manually create our reference (ground-truth) dataset. We have a list of user queries and the ideal source to answer the query [`datasets/eval-dataset-v1.jsonl`](https://github.com/ray-project/llm-applications/blob/main/datasets/eval-dataset-v1.jsonl). We will our LLM app above to generate reference answer for each query/source pair using `gpt-4`."
   ]
  },
  {
   "cell_type": "code",
   "execution_count": 253,
   "id": "fa6cab00-d68d-4745-a735-048d72d8e5d6",
   "metadata": {
    "tags": []
   },
   "outputs": [],
   "source": [
    "import re\n",
    "import urllib.parse\n",
    "from bs4 import BeautifulSoup\n",
    "from IPython.display import clear_output, display, JSON"
   ]
  },
  {
   "cell_type": "code",
   "execution_count": 254,
   "id": "7c6f7b9e-4b77-4b0c-8660-ba8047356415",
   "metadata": {
    "tags": []
   },
   "outputs": [],
   "source": [
    "# If running tests / small samples, set num_samples to <10\n",
    "# None = all samples\n",
    "num_samples = 10"
   ]
  },
  {
   "cell_type": "code",
   "execution_count": 255,
   "id": "ca019cc9-3241-4453-b63d-ef7c44ba584a",
   "metadata": {
    "tags": []
   },
   "outputs": [],
   "source": [
    "with open(Path(ROOT_DIR, \"datasets/eval-dataset-v1.jsonl\"), \"r\") as f:\n",
    "    data = [json.loads(item) for item in list(f)]"
   ]
  },
  {
   "cell_type": "code",
   "execution_count": 256,
   "id": "3cd9e509-1fe6-42ad-886f-0e118e8dd35d",
   "metadata": {
    "tags": []
   },
   "outputs": [
    {
     "data": {
      "text/plain": [
       "[{'question': 'I’m struggling a bit with Ray Data type conversions when I do map_batches. Any advice?',\n",
       "  'source': 'https://docs.ray.io/en/master/data/transforming-data.html#configuring-batch-format'},\n",
       " {'question': 'How does autoscaling work in a Ray Serve application?',\n",
       "  'source': 'https://docs.ray.io/en/master/serve/scaling-and-resource-allocation.html#autoscaling'},\n",
       " {'question': 'how do I get the address of a ray node',\n",
       "  'source': 'https://docs.ray.io/en/master/ray-core/miscellaneous.html#node-information'},\n",
       " {'question': 'Does Ray support NCCL?',\n",
       "  'source': 'https://docs.ray.io/en/master/ray-more-libs/ray-collective.html'},\n",
       " {'question': 'Is Ray integrated with DeepSpeed?',\n",
       "  'source': 'https://docs.ray.io/en/master/ray-air/examples/gptj_deepspeed_fine_tuning.html#fine-tuning-the-model-with-ray-air-a-name-train-a'}]"
      ]
     },
     "execution_count": 256,
     "metadata": {},
     "output_type": "execute_result"
    }
   ],
   "source": [
    "data[:5]"
   ]
  },
  {
   "cell_type": "code",
   "execution_count": 257,
   "id": "cf6904eb-53d4-4881-9b29-a7670b6e8443",
   "metadata": {
    "tags": []
   },
   "outputs": [],
   "source": [
    "def fetch_text(uri):\n",
    "    url, anchor = uri.split(\"#\") if \"#\" in uri else (uri, None)\n",
    "    file_path = Path(EFS_DIR, url.split(\"https://\")[-1])\n",
    "    with open(file_path, \"r\", encoding=\"utf-8\") as file:\n",
    "        html_content = file.read()\n",
    "    soup = BeautifulSoup(html_content, \"html.parser\")\n",
    "    if anchor:\n",
    "        target_element = soup.find(id=anchor)\n",
    "        if target_element:\n",
    "            text = target_element.get_text()\n",
    "        else:\n",
    "            return fetch_text(uri=url)\n",
    "    else:\n",
    "        text = soup.get_text()\n",
    "    return text"
   ]
  },
  {
   "cell_type": "code",
   "execution_count": 258,
   "id": "eaeb8f67-0fef-4b0e-a362-cceb04f3295b",
   "metadata": {
    "tags": []
   },
   "outputs": [
    {
     "data": {
      "text/plain": [
       "'\\nConfiguring batch format#\\nRay Data represents batches as dicts of NumPy ndarrays or pandas DataFrames. By\\ndefault, Ray Data represents batches as dicts of NumPy ndarrays.\\nTo configure the batch type, specify batch_format in\\nmap_batches(). You can return either format from your function.\\n\\n\\n\\nNumPy\\nfrom typing import Dict\\nimport numpy as np\\nimport ray\\n\\ndef increase_brightness(batch: Dict[str, np.ndarray]) -> Dict[str, np.ndarray]:\\n    batch[\"image\"] = np.clip(batch[\"image\"] + 4, 0, 255)\\n    return batch\\n\\nds = (\\n    ray.data.read_images(\"s3://anonymous@ray-example-data/image-datasets/simple\")\\n    .map_batches(increase_brightness, batch_format=\"numpy\")\\n)\\n\\n\\n\\n\\n\\npandas\\nimport pandas as pd\\nimport ray\\n\\ndef drop_nas(batch: pd.DataFrame) -> pd.DataFrame:\\n    return batch.dropna()\\n\\nds = (\\n    ray.data.read_csv(\"s3://anonymous@air-example-data/iris.csv\")\\n    .map_batches(drop_nas, batch_format=\"pandas\")\\n)\\n\\n\\n\\n\\n'"
      ]
     },
     "execution_count": 258,
     "metadata": {},
     "output_type": "execute_result"
    }
   ],
   "source": [
    "# Sample\n",
    "uri = \"https://docs.ray.io/en/master/data/transforming-data.html#configuring-batch-format\"\n",
    "fetch_text(uri=uri)"
   ]
  },
  {
   "cell_type": "code",
   "execution_count": 259,
   "id": "dec3460f-c07a-4a2f-95f7-d1ef85d1a064",
   "metadata": {
    "tags": []
   },
   "outputs": [],
   "source": [
    "# Content for inference\n",
    "system_content = \"\"\"\n",
    "    \"Answer the query using the context provided.\n",
    "    Then, you must {score} your response between 1 and 5.\n",
    "    You must return your response in a line with only the score.\n",
    "    Do not add any more details.\n",
    "    On a separate line provide your {reasoning} for the score as well.\n",
    "    Return your response following the exact format outlined below.\n",
    "    Do not add or remove anything.\n",
    "    And all of this must be in a valid JSON format.\n",
    "    \n",
    "    {\"answer\": answer,\n",
    "     \"score\": score,\n",
    "     \"reasoning\": reasoning}\n",
    "    \"\"\"\n",
    "assistant_content = \"\""
   ]
  },
  {
   "cell_type": "code",
   "execution_count": 260,
   "id": "8a67f8a6-c742-4c40-b8e5-d2c5fb70fec2",
   "metadata": {
    "tags": []
   },
   "outputs": [],
   "source": [
    "def extract_from_response(response):\n",
    "    # Define regular expressions for extracting values\n",
    "    answer_pattern = r'\"answer\"\\s*:\\s*\"([^\"]*)\"'\n",
    "    score_pattern = r'\"score\"\\s*:\\s*([0-9]+)'\n",
    "    reasoning_pattern = r'\"reasoning\"\\s*:\\s*\"([^\"]*)\"'\n",
    "\n",
    "    # Extract values using regular expressions\n",
    "    answer_match = re.search(answer_pattern, response)\n",
    "    score_match = re.search(score_pattern, response)\n",
    "    reasoning_match = re.search(reasoning_pattern, response)\n",
    "\n",
    "    # Convert\n",
    "    if answer_match and score_match and reasoning_match:\n",
    "        answer = answer_match.group(1)\n",
    "        score = float(score_match.group(1))\n",
    "        reasoning = reasoning_match.group(1)\n",
    "        return answer, score, reasoning\n",
    "\n",
    "    return \"\", \"\", \"\""
   ]
  },
  {
   "cell_type": "code",
   "execution_count": 279,
   "id": "63c2db65-36fc-48cb-8e86-18b96554f977",
   "metadata": {
    "tags": []
   },
   "outputs": [],
   "source": [
    "def get_references(data, llm, temperature, max_context_length, system_content, assistant_content, num_samples=None):\n",
    "    results = []\n",
    "    for row in tqdm(data[:num_samples]):\n",
    "        # Get context\n",
    "        query = row[\"question\"]\n",
    "        context = fetch_text(uri=row[\"source\"])\n",
    "\n",
    "        # Generate response\n",
    "        context_length = max_context_length - len(system_content + assistant_content)\n",
    "        user_content = f\"The query is {query} and the additional context is {context}\"[:context_length]\n",
    "        response = generate_response(\n",
    "            llm=llm,\n",
    "            temperature=temperature,\n",
    "            system_content=system_content, \n",
    "            assistant_content=assistant_content, \n",
    "            user_content=user_content)\n",
    "\n",
    "        # Extract from response\n",
    "        answer, score, reasoning = extract_from_response(response=response)\n",
    "\n",
    "        # Store result\n",
    "        result = ({\n",
    "                \"question\": query,\n",
    "                \"source\": row[\"source\"],\n",
    "                \"answer\": answer,\n",
    "                \"score\": score,\n",
    "                \"reasoning\": reasoning,\n",
    "            })\n",
    "        results.append(result)\n",
    "        clear_output(wait=True)\n",
    "        display(JSON(json.dumps(result, indent=2)))\n",
    "    return results"
   ]
  },
  {
   "cell_type": "markdown",
   "id": "06c3cf4c-638a-4741-861e-ca0a1b940ee5",
   "metadata": {},
   "source": [
    "Let's generate reference responses with `gpt-4` as well:"
   ]
  },
  {
   "cell_type": "code",
   "execution_count": 280,
   "id": "25cb4b98-ddc7-462e-8d6f-92f703bfc838",
   "metadata": {
    "tags": []
   },
   "outputs": [
    {
     "data": {
      "application/json": {
       "answer": "To scatter actors across the cluster, you can use the 'SPREAD' scheduling strategy in Ray. You can define this strategy when creating your remote functions or actors using the '@ray.remote' decorator and specifying 'scheduling_strategy=\\",
       "question": "how to scatter actors across the cluster?",
       "reasoning": "The answer is directly derived from the context provided. It accurately explains how to use the 'SPREAD' scheduling strategy in Ray to scatter tasks or actors across a cluster.",
       "score": 5,
       "source": "https://docs.ray.io/en/master/ray-core/scheduling/index.html#spread"
      },
      "text/plain": [
       "<IPython.core.display.JSON object>"
      ]
     },
     "metadata": {
      "application/json": {
       "expanded": false,
       "root": "root"
      }
     },
     "output_type": "display_data"
    },
    {
     "name": "stderr",
     "output_type": "stream",
     "text": [
      "100%|██████████| 10/10 [01:47<00:00, 10.76s/it]"
     ]
    },
    {
     "name": "stdout",
     "output_type": "stream",
     "text": [
      "4.8\n"
     ]
    },
    {
     "name": "stderr",
     "output_type": "stream",
     "text": [
      "\n"
     ]
    }
   ],
   "source": [
    "# GPT-4\n",
    "openai.api_base = os.environ[\"OPENAI_API_BASE\"]\n",
    "openai.api_key = os.environ[\"OPENAI_API_KEY\"]\n",
    "results = get_references(\n",
    "    data=data, llm=\"gpt-4\", temperature=0.0, max_context_length=8192, \n",
    "    system_content=system_content, assistant_content=assistant_content,\n",
    "    num_samples=num_samples)\n",
    "print (np.mean([float(result[\"score\"]) for result in results if result[\"score\"]]))"
   ]
  },
  {
   "cell_type": "code",
   "execution_count": 281,
   "id": "0b8356fb-2a34-4697-b478-36911b582e99",
   "metadata": {
    "tags": []
   },
   "outputs": [],
   "source": [
    "# Save to file\n",
    "references_fp = Path(ROOT_DIR, EXPERIMENTS_DIR, \"references\", \"gpt-4.json\")\n",
    "references_fp.parent.mkdir(parents=True, exist_ok=True)\n",
    "with open(references_fp, \"w\") as fp:\n",
    "    json.dump(results, fp, indent=4)"
   ]
  },
  {
   "cell_type": "markdown",
   "id": "a76733db-4b41-4911-aae8-0d8aa01c0330",
   "metadata": {},
   "source": [
    "Let's generate reference responses with `Llama-2-70b` as well:"
   ]
  },
  {
   "cell_type": "code",
   "execution_count": 282,
   "id": "8037f7a6-644c-4b8c-adcc-1d1c1ca76cc6",
   "metadata": {
    "tags": []
   },
   "outputs": [
    {
     "data": {
      "application/json": {
       "answer": "Use the 'SPREAD' scheduling strategy in Ray to scatter actors across the cluster.",
       "question": "how to scatter actors across the cluster?",
       "reasoning": "The 'SPREAD' strategy is specifically designed to spread tasks or actors among available nodes in the cluster, ensuring even distribution and efficient utilization of resources.",
       "score": 5,
       "source": "https://docs.ray.io/en/master/ray-core/scheduling/index.html#spread"
      },
      "text/plain": [
       "<IPython.core.display.JSON object>"
      ]
     },
     "metadata": {
      "application/json": {
       "expanded": false,
       "root": "root"
      }
     },
     "output_type": "display_data"
    },
    {
     "name": "stderr",
     "output_type": "stream",
     "text": [
      "100%|██████████| 10/10 [01:11<00:00,  7.15s/it]"
     ]
    },
    {
     "name": "stdout",
     "output_type": "stream",
     "text": [
      "4.888888888888889\n"
     ]
    },
    {
     "name": "stderr",
     "output_type": "stream",
     "text": [
      "\n"
     ]
    }
   ],
   "source": [
    "# Llama-2-70b\n",
    "openai.api_base = os.environ[\"ANYSCALE_API_BASE\"]\n",
    "openai.api_key = os.environ[\"ANYSCALE_API_KEY\"]\n",
    "results = get_references(\n",
    "    data=data, llm=\"meta-llama/Llama-2-70b-chat-hf\", temperature=0.0, max_context_length=4096, \n",
    "    system_content=system_content, assistant_content=assistant_content,\n",
    "    num_samples=num_samples)\n",
    "print (np.mean([float(result[\"score\"]) for result in results if result[\"score\"]]))"
   ]
  },
  {
   "cell_type": "code",
   "execution_count": 283,
   "id": "93688a82-1643-49d1-9faa-9f6341efd28d",
   "metadata": {
    "tags": []
   },
   "outputs": [],
   "source": [
    "# Save to file\n",
    "references_fp = Path(ROOT_DIR, EXPERIMENTS_DIR, \"references\", \"llama-2-70b.json\")\n",
    "references_fp.parent.mkdir(parents=True, exist_ok=True)\n",
    "with open(references_fp, \"w\") as fp:\n",
    "    json.dump(results, fp, indent=4)"
   ]
  },
  {
   "cell_type": "markdown",
   "id": "5772f9aa-30e1-44bb-b08b-41d014256515",
   "metadata": {},
   "source": [
    "## Evaluator"
   ]
  },
  {
   "cell_type": "markdown",
   "id": "4c522532-98c2-46e9-b262-1747145f34e1",
   "metadata": {},
   "source": [
    "Now that we've seen the answers, scores and reasoning for our references dataset from both `gpt-4` and `Llama-2-70b`. We can use these responses to decide on a quality evaluator for our future experiments. This evaluator will be used to score answers for different experiment configuations and so we need to be able to trust their scores, reasoning, etc. After inspecting Llama2 evaluating Llama2's answers, it is definitely not a good evaluator. For most answers the reasoning is not good, and the score is pretty random with lots of 4s. Therefore, our evaluator will be `gpt-4`."
   ]
  },
  {
   "cell_type": "code",
   "execution_count": 297,
   "id": "dceefac3-e86c-4f2b-96ee-99e3f026692f",
   "metadata": {
    "tags": []
   },
   "outputs": [],
   "source": [
    "EVALUATOR = \"gpt-4\""
   ]
  },
  {
   "cell_type": "markdown",
   "id": "5b029edf-e018-427f-a1c9-2b4bf689d09c",
   "metadata": {},
   "source": [
    "## Experiments"
   ]
  },
  {
   "cell_type": "markdown",
   "id": "8dea24ed-0a47-47a6-9881-0af1ea8c5691",
   "metadata": {},
   "source": [
    "We're going to start experimenting with the various components in our LLM application such as our evaluator, context, sections, chunking size, number of chunks in our context, embedding models, OSS/closed LLMs and more!"
   ]
  },
  {
   "cell_type": "markdown",
   "id": "f8b51fd3-7a86-41dd-91bb-adcb83bf7269",
   "metadata": {},
   "source": [
    "### Utilities"
   ]
  },
  {
   "cell_type": "markdown",
   "id": "07b3f59f-f79b-4cdb-b55f-6d1d5d245628",
   "metadata": {},
   "source": [
    "Before we get started with our experiments, we're going to define some utility functions that we'll use to easily generate and evaluate responses using the different experiment configurations. We'll also define some functions to help determine our response quality score, retrieval recall score, etc."
   ]
  },
  {
   "cell_type": "code",
   "execution_count": 298,
   "id": "0f9bdb8e-ed08-47b5-b456-1b1ff3e82c42",
   "metadata": {
    "tags": []
   },
   "outputs": [],
   "source": [
    "import subprocess"
   ]
  },
  {
   "cell_type": "code",
   "execution_count": 299,
   "id": "9961f6af-06ea-4179-a4c5-bfa23479364c",
   "metadata": {
    "tags": []
   },
   "outputs": [],
   "source": [
    "# Paths\n",
    "DATA_PATH = str(Path(ROOT_DIR, \"datasets\", \"eval-dataset-v1.jsonl\"))\n",
    "REFERENCE_LOC = str(Path(ROOT_DIR, EXPERIMENTS_DIR, \"references\", \"gpt-4.json\"))"
   ]
  },
  {
   "cell_type": "code",
   "execution_count": 300,
   "id": "86bfa2e5-c48d-4e9a-9a22-026a7e1d8e38",
   "metadata": {
    "tags": []
   },
   "outputs": [],
   "source": [
    "# Mappings\n",
    "EMBEDDING_DIMENSIONS = {\n",
    "    \"thenlper/gte-base\": 768,\n",
    "    \"BAAI/bge-large-en\": 1024,\n",
    "    \"text-embedding-ada-002\": 1536\n",
    "}\n",
    "MAX_CONTEXT_LENGTHS = {\n",
    "    \"gpt-4\": 8192,\n",
    "    \"gpt-3.5-turbo\": 4096,\n",
    "    \"gpt-3.5-turbo-16k\": 16384,\n",
    "    \"meta-llama/Llama-2-7b-chat-hf\": 4096,\n",
    "    \"meta-llama/Llama-2-13b-chat-hf\": 4096,\n",
    "    \"meta-llama/Llama-2-70b-chat-hf\": 4096,\n",
    "}"
   ]
  },
  {
   "cell_type": "code",
   "execution_count": 301,
   "id": "13f6f1dd-b9f4-468b-aff7-7a7e68071ab6",
   "metadata": {
    "tags": []
   },
   "outputs": [],
   "source": [
    "def execute_bash(command):\n",
    "    results = subprocess.run(command, shell=True, stdout=subprocess.PIPE, stderr=subprocess.PIPE, text=True)\n",
    "    return results"
   ]
  },
  {
   "cell_type": "code",
   "execution_count": 302,
   "id": "e4076f37-2798-40db-9284-c70fa0da7287",
   "metadata": {
    "tags": []
   },
   "outputs": [],
   "source": [
    "def set_index(sections, embedding_model_name, chunk_size, chunk_overlap):\n",
    "    # Drop current Vector DB and prepare for new one\n",
    "    execute_bash(f'psql \"{os.environ[\"DB_CONNECTION_STRING\"]}\" -c \"DROP TABLE document;\"')\n",
    "    execute_bash(f'sudo -u postgres psql -f ../migrations/vector-{EMBEDDING_DIMENSIONS[embedding_model_name]}.sql')\n",
    "    SQL_DUMP_FP = Path(EFS_DIR, \"sql_dumps\", f\"{embedding_model_name.split('/')[-1]}_{chunk_size}_{chunk_overlap}.sql\")\n",
    "    \n",
    "    # Vector DB\n",
    "    if SQL_DUMP_FP.exists():  # Load from SQL dump\n",
    "        execute_bash(f'psql \"{os.environ[\"DB_CONNECTION_STRING\"]}\" -f {SQL_DUMP_FP}')\n",
    "    else:  # Create new index\n",
    "        # Create chunks dataset\n",
    "        text_splitter = RecursiveCharacterTextSplitter(\n",
    "            separators=[\"\\n\\n\", \"\\n\", \" \", \"\"],\n",
    "            chunk_size=chunk_size,\n",
    "            chunk_overlap=chunk_overlap,\n",
    "            length_function=len,\n",
    "        )\n",
    "        chunks = text_splitter.create_documents(\n",
    "            texts=[section[\"text\"] for section in sections], \n",
    "            metadatas=[{\"source\": section[\"source\"]} for section in sections]\n",
    "        )\n",
    "        chunks_ds = ray.data.from_items([{\"text\": chunk.page_content, \"source\": chunk.metadata[\"source\"]} for chunk in chunks])\n",
    "\n",
    "        # Embed chunks\n",
    "        embedded_chunks = chunks_ds.map_batches(\n",
    "            EmbedChunks,\n",
    "            fn_constructor_kwargs={\"model_name\": embedding_model_name},\n",
    "            batch_size=100, \n",
    "            num_gpus=1,\n",
    "            compute=ActorPoolStrategy(size=2))\n",
    "        \n",
    "        # Index data\n",
    "        embedded_chunks.map_batches(\n",
    "            StoreResults,\n",
    "            batch_size=128,\n",
    "            num_cpus=1,\n",
    "            compute=ActorPoolStrategy(size=28),\n",
    "        ).count()\n",
    "        \n",
    "        # Save to SQL dump\n",
    "        execute_bash(f\"sudo -u postgres pg_dump -c > {SQL_DUMP_FP}\")"
   ]
  },
  {
   "cell_type": "code",
   "execution_count": 303,
   "id": "1f2e38a9-0366-4204-b542-c4b6e61deed7",
   "metadata": {
    "tags": []
   },
   "outputs": [],
   "source": [
    "def set_credentials(llm):\n",
    "    if llm.startswith(\"gpt\"):\n",
    "        openai.api_base = os.environ[\"OPENAI_API_BASE\"]\n",
    "        openai.api_key = os.environ[\"OPENAI_API_KEY\"]\n",
    "    else:\n",
    "        openai.api_base = os.environ[\"ANYSCALE_API_BASE\"]\n",
    "        openai.api_key = os.environ[\"ANYSCALE_API_KEY\"]"
   ]
  },
  {
   "cell_type": "code",
   "execution_count": 304,
   "id": "64a9d54d-146c-41a6-b13c-61513549434b",
   "metadata": {
    "tags": []
   },
   "outputs": [],
   "source": [
    "# Generate responses\n",
    "def generate_responses(\n",
    "    experiment_name, data_path, sections,\n",
    "    chunk_size, chunk_overlap, num_chunks,\n",
    "    embedding_model_name, \n",
    "    llm, temperature, max_context_length, \n",
    "    system_content, assistant_content=\"\",\n",
    "    num_samples=None):\n",
    "    \n",
    "    # Set credentials\n",
    "    set_credentials(llm=llm)\n",
    "    \n",
    "    # Build index\n",
    "    set_index(\n",
    "        sections=sections,\n",
    "        embedding_model_name=embedding_model_name,\n",
    "        chunk_size=chunk_size,\n",
    "        chunk_overlap=chunk_overlap,\n",
    "    )\n",
    "    \n",
    "    # Query agent\n",
    "    agent = QueryAgent(\n",
    "        embedding_model_name=embedding_model_name,\n",
    "        llm=llm,\n",
    "        temperature=temperature,\n",
    "        max_context_length=max_context_length,\n",
    "        system_content=system_content,\n",
    "        assistant_content=assistant_content,\n",
    "    )\n",
    "\n",
    "    # Generate responses\n",
    "    results = []\n",
    "    with open(Path(data_path), \"r\") as f:\n",
    "        questions = [json.loads(item)[\"question\"] for item in list(f)][:num_samples]\n",
    "    for query in tqdm(questions):\n",
    "        result = agent(query=query, num_chunks=num_chunks)\n",
    "        results.append(result)\n",
    "        clear_output(wait=True)\n",
    "        display(JSON(json.dumps(result, indent=2)))\n",
    "\n",
    "    # Save to file\n",
    "    responses_fp = Path(ROOT_DIR, EXPERIMENTS_DIR, \"responses\", f\"{experiment_name}.json\")\n",
    "    responses_fp.parent.mkdir(parents=True, exist_ok=True)\n",
    "    config = {\n",
    "        \"experiment_name\": experiment_name,\n",
    "        \"data_path\": data_path,\n",
    "        \"chunk_size\": chunk_size,\n",
    "        \"chunk_overlap\": chunk_overlap,\n",
    "        \"num_chunks\": num_chunks,\n",
    "        \"embedding_model_name\": embedding_model_name,\n",
    "        \"llm\": llm,\n",
    "        \"temperature\": temperature,\n",
    "        \"max_context_length\": max_context_length,\n",
    "        \"system_content\": system_content,\n",
    "        \"assistant_content\": assistant_content,\n",
    "    }\n",
    "    responses = {\n",
    "        \"config\": config,\n",
    "        \"results\": results,\n",
    "    }\n",
    "    with open(responses_fp, \"w\") as fp:\n",
    "        json.dump(responses, fp, indent=4)"
   ]
  },
  {
   "cell_type": "code",
   "execution_count": 305,
   "id": "73a57c87-8ef0-4d45-9594-34ca07ff7210",
   "metadata": {
    "tags": []
   },
   "outputs": [],
   "source": [
    "def get_retrieval_score(references, generated):\n",
    "    matches = np.zeros(len(references))\n",
    "    for i in range(len(references)):\n",
    "        reference_source = references[i][\"source\"].split(\"#\")[0]\n",
    "        if not reference_source:\n",
    "            matches[i] = 1\n",
    "            continue\n",
    "        for source in generated[i][\"sources\"]:\n",
    "            # sections don't have to perfectly match\n",
    "            if reference_source == source.split(\"#\")[0]:\n",
    "                matches[i] = 1\n",
    "                continue\n",
    "    retrieval_score = np.mean(matches)\n",
    "    return retrieval_score"
   ]
  },
  {
   "cell_type": "code",
   "execution_count": 306,
   "id": "9943ec93-cdb8-4f17-889c-7a1d98cde143",
   "metadata": {
    "tags": []
   },
   "outputs": [],
   "source": [
    "def evaluate_responses(\n",
    "    experiment_name, reference_loc, response_loc,\n",
    "    evaluator, temperature, max_context_length,\n",
    "    system_content, assistant_content=\"\",\n",
    "    num_samples=None):\n",
    "    \n",
    "    # Set credentials\n",
    "    set_credentials(llm=evaluator)\n",
    "    \n",
    "    # Load answers\n",
    "    with open(Path(reference_loc), \"r\") as f:\n",
    "        references = [item for item in json.load(f)][:num_samples]\n",
    "    with open(Path(response_loc), \"r\") as f:\n",
    "        generated = [item for item in json.load(f)[\"results\"]][:num_samples]\n",
    "    assert len(references) == len(generated)\n",
    "\n",
    "    # Quality score\n",
    "    results = []\n",
    "    context_length = max_context_length - len(system_content + assistant_content)\n",
    "    for ref, gen in tqdm(zip(references, generated), total=len(references)):\n",
    "        assert ref[\"question\"] == gen[\"question\"]\n",
    "        user_content = str(\n",
    "            {\n",
    "                \"question\": gen[\"question\"],\n",
    "                \"generated_answer\": gen[\"answer\"],\n",
    "                \"reference_answer\": ref[\"answer\"],\n",
    "            }\n",
    "        )[:context_length]\n",
    "\n",
    "        # Generate response\n",
    "        response = generate_response(\n",
    "            llm=evaluator,\n",
    "            temperature=temperature,\n",
    "            system_content=system_content,\n",
    "            assistant_content=assistant_content,\n",
    "            user_content=user_content,\n",
    "        )\n",
    "\n",
    "        # Extract from response\n",
    "        score, reasoning = response.split(\"\\n\", 1)\n",
    "\n",
    "        # Store result\n",
    "        result = {\n",
    "            \"question\": gen[\"question\"],\n",
    "            \"generated_answer\": gen[\"answer\"],\n",
    "            \"reference_answer\": ref[\"answer\"],\n",
    "            \"score\": float(score),\n",
    "            \"reasoning\": reasoning.lstrip(\"\\n\"),\n",
    "            \"sources\": gen[\"sources\"],\n",
    "        }\n",
    "        results.append(result)\n",
    "        clear_output(wait=True)\n",
    "        display(JSON(json.dumps(result, indent=2)))\n",
    "\n",
    "    # Save to file\n",
    "    evaluator_name = evaluator.split(\"/\")[-1].lower()\n",
    "    evaluation_fp = Path(ROOT_DIR, EXPERIMENTS_DIR, \"evaluations\", f\"{experiment_name}_{evaluator_name}.json\")\n",
    "    evaluation_fp.parent.mkdir(parents=True, exist_ok=True)\n",
    "    config = {\n",
    "        \"experiment_name\": experiment_name,\n",
    "        \"reference_loc\": reference_loc,\n",
    "        \"response_loc\": response_loc,\n",
    "        \"evaluator\": evaluator,\n",
    "        \"temperature\": temperature,\n",
    "        \"max_context_length\": max_context_length,\n",
    "        \"system_content\": system_content,\n",
    "        \"assistant_content\": assistant_content,\n",
    "    }\n",
    "    evaluation = {\n",
    "        \"config\": config,\n",
    "        \"retrieval_score\": get_retrieval_score(references, generated),\n",
    "        \"quality_score\": np.mean([item[\"score\"] for item in results if (item[\"score\"] and item[\"reference_answer\"])]),\n",
    "        \"results\": results,\n",
    "    }\n",
    "    with open(evaluation_fp, \"w\") as fp:\n",
    "        json.dump(evaluation, fp, indent=4)"
   ]
  },
  {
   "cell_type": "code",
   "execution_count": 307,
   "id": "66a76e95-9c1b-488f-bd9f-750a176d3d77",
   "metadata": {
    "tags": []
   },
   "outputs": [],
   "source": [
    "def run_experiment(\n",
    "    experiment_name, data_path, sections,\n",
    "    chunk_size, chunk_overlap, num_chunks,\n",
    "    embedding_model_name, llm,\n",
    "    reference_loc, evaluator,\n",
    "    num_samples=None):\n",
    "    \"\"\"Generate responses and evaluate them.\"\"\"\n",
    "    \n",
    "    # Generate responses\n",
    "    generate_responses(\n",
    "        experiment_name=experiment_name, \n",
    "        data_path=data_path,\n",
    "        sections=sections,\n",
    "        chunk_size=chunk_size, \n",
    "        chunk_overlap=chunk_overlap, \n",
    "        num_chunks=num_chunks,\n",
    "        embedding_model_name=embedding_model_name, \n",
    "        llm=llm, \n",
    "        temperature=0.0, \n",
    "        max_context_length=MAX_CONTEXT_LENGTHS[llm], \n",
    "        system_content=\"Answer the query using the context provided.\",\n",
    "        num_samples=num_samples)\n",
    "\n",
    "    # Evaluate responses\n",
    "    evaluation_system_content = \"\"\"\n",
    "        Your job is to rate the quality of our generated answer {generated_answer}\n",
    "        given a query {query} and a reference answer {reference_answer}.\n",
    "        Your score has to be between 1 and 5.\n",
    "        You must return your response in a line with only the score.\n",
    "        Do not return answers in any other format.\n",
    "        On a separate line provide your reasoning for the score as well.\n",
    "        \"\"\"\n",
    "    evaluate_responses(\n",
    "        experiment_name=experiment_name,\n",
    "        reference_loc=reference_loc, \n",
    "        response_loc=str(Path(ROOT_DIR, EXPERIMENTS_DIR, \"responses\", f\"{experiment_name}.json\")),\n",
    "        evaluator=EVALUATOR, \n",
    "        temperature=0.0, \n",
    "        max_context_length=MAX_CONTEXT_LENGTHS[EVALUATOR],\n",
    "        system_content=evaluation_system_content,\n",
    "        num_samples=num_samples)"
   ]
  },
  {
   "cell_type": "code",
   "execution_count": 308,
   "id": "169201fd-aa78-4459-a55f-04c97f1938aa",
   "metadata": {
    "tags": []
   },
   "outputs": [],
   "source": [
    "def print_experiment(experiment_name, evaluator=EVALUATOR):\n",
    "    eval_fp = Path(ROOT_DIR, EXPERIMENTS_DIR, \"evaluations\", f\"{experiment_name}_{evaluator}.json\")\n",
    "    with open(eval_fp, \"r\") as fp:\n",
    "        d = json.load(fp)\n",
    "    print (experiment_name)\n",
    "    print (\"  retrieval score:\", d[\"retrieval_score\"])\n",
    "    print (\"  quality score:\", d[\"quality_score\"])\n",
    "    print ()"
   ]
  },
  {
   "cell_type": "code",
   "execution_count": 309,
   "id": "8accfe8a-5041-4b94-a225-9e34a73ac5b8",
   "metadata": {
    "tags": []
   },
   "outputs": [],
   "source": [
    "llm = \"meta-llama/Llama-2-70b-chat-hf\""
   ]
  },
  {
   "cell_type": "markdown",
   "id": "6b31ebee-f839-4aaa-b328-72cee088c830",
   "metadata": {
    "tags": []
   },
   "source": [
    "### Context"
   ]
  },
  {
   "cell_type": "markdown",
   "id": "e89f56c4-2629-4ff7-b57c-f319170937de",
   "metadata": {},
   "source": [
    "We're first going to test if the additonal context we provide is helpful at all. This is to validate that the RAG system is indeed worth the effort."
   ]
  },
  {
   "cell_type": "code",
   "execution_count": 310,
   "id": "91cefda6-0ec7-40a2-afc0-b8af2bdd3332",
   "metadata": {
    "tags": []
   },
   "outputs": [
    {
     "data": {
      "application/json": {
       "generated_answer": "To scatter actors across a cluster, you can use a clustering algorithm that assigns each actor to a random node in the cluster. Here are a few options:\n\n1. Random assignment: Each actor is assigned to a random node in the cluster. This is a simple and straightforward approach, but it may not lead to the most efficient use of resources.\n2. K-means clustering: The actors are grouped into K clusters based on their spatial proximity. Each cluster is then assigned to a node in the cluster. This approach can lead to better resource utilization, but it may not work well if the actors have varying resource requirements.\n3. Hierarchical clustering: The actors are grouped into a hierarchy of clusters based on their spatial proximity. Each cluster is then assigned to a node in the cluster. This approach can lead to better resource utilization and can handle actors with varying resource requirements.\n4. Graph-based clustering: The actors are represented as nodes in a graph, and edges are added between actors that are close to each other. The graph is then partitioned into clusters, and each cluster is assigned to a node in the cluster. This approach can handle actors with varying resource requirements and can lead to better resource utilization.\n5. Distributed clustering: The actors are clustered in a distributed manner, without relying on a centralized coordinator. Each actor communicates with its neighbors to determine which cluster it belongs to. This approach can be more robust and fault-tolerant than centralized clustering methods.\n6. Dynamic clustering: The actors are reclustered periodically based on changes in their spatial proximity. This approach can handle changes in the actor distribution over time and can lead to better resource utilization.\n7. Hybrid clustering: A combination of the above methods is used to scatter actors across the cluster. For example, a hybrid approach could use k-means clustering to group actors into clusters and then use hierarchical clustering to assign each cluster to a node in the cluster.\n\nIt's important to note that the choice of clustering algorithm will depend on the specific requirements of your application and the characteristics of the actors. You may want to experiment with different algorithms to determine which one works best for your use case.",
       "question": "how to scatter actors across the cluster?",
       "reasoning": "The generated answer provides a detailed explanation of various clustering algorithms, but it does not directly answer the question about scattering actors across a cluster in the context of Ray, a popular open-source framework for distributed computing. The reference answer mentions a specific strategy ('SPREAD') in Ray, which is not mentioned in the generated answer. Therefore, the generated answer is not very relevant to the specific question asked.",
       "reference_answer": "To scatter actors across the cluster, you can use the 'SPREAD' scheduling strategy in Ray. You can define this strategy when creating your remote functions or actors using the '@ray.remote' decorator and specifying 'scheduling_strategy=\\",
       "score": 2,
       "sources": []
      },
      "text/plain": [
       "<IPython.core.display.JSON object>"
      ]
     },
     "metadata": {
      "application/json": {
       "expanded": false,
       "root": "root"
      }
     },
     "output_type": "display_data"
    },
    {
     "name": "stderr",
     "output_type": "stream",
     "text": [
      "100%|██████████| 10/10 [01:05<00:00,  6.56s/it]\n"
     ]
    }
   ],
   "source": [
    "# Without context\n",
    "num_chunks = 0\n",
    "experiment_name = f\"without-context\"\n",
    "run_experiment(\n",
    "    experiment_name=experiment_name, \n",
    "    data_path=DATA_PATH,\n",
    "    sections=sections,\n",
    "    chunk_size=100, \n",
    "    chunk_overlap=50,\n",
    "    num_chunks=num_chunks,\n",
    "    embedding_model_name=\"thenlper/gte-base\",\n",
    "    llm=llm,\n",
    "    reference_loc=REFERENCE_LOC,\n",
    "    evaluator=EVALUATOR,\n",
    "    num_samples=num_samples)"
   ]
  },
  {
   "cell_type": "code",
   "execution_count": 311,
   "id": "f506ea99-7397-44b3-88a1-0d2a2df1ac21",
   "metadata": {
    "tags": []
   },
   "outputs": [
    {
     "name": "stdout",
     "output_type": "stream",
     "text": [
      "without-context\n",
      "  retrieval score: 0.0\n",
      "  quality score: 2.45\n",
      "\n"
     ]
    }
   ],
   "source": [
    "print_experiment(experiment_name=experiment_name)"
   ]
  },
  {
   "cell_type": "code",
   "execution_count": 312,
   "id": "a819c26a-9e05-484b-8e57-edfd26a84d4d",
   "metadata": {
    "tags": []
   },
   "outputs": [
    {
     "data": {
      "application/json": {
       "generated_answer": "To scatter actors across the cluster, you can use the `ray.util.state.list_actors()` API to list all actors in the cluster, and then use the `ray.actor.create()` method to create new actors on different nodes.\n\nHere's an example of how you can do this:\n```\n# List all actors in the cluster\nactors = ray.util.state.list_actors()\n\n# Create a new actor on a random node\nnew_actor = ray.actor.create(actor_class, num_cpus=4, placement_group=\"my_pg\")\n\n# Scatter the new actor across the cluster\nfor i in range(10):\n    ray.util.state.list_actors(new_actor.address)\n    new_actor.stop()\n    new_actor = ray.actor.create(actor_class, num_cpus=4, placement_group=\"my_pg\")\n```\nThis code will create a new actor on a random node in the cluster, and then scatter it across the cluster by stopping the actor and creating a new one on a different node. You can repeat this process to scatter multiple actors across the cluster.\n\nAlternatively, you can use the `ray.util.state.list_placement_groups()` API to list all placement groups in the cluster, and then use the `ray.actor.create()` method to create new actors on different placement groups. This will allow you to scatter actors across the cluster based on the placement groups they are assigned to.\n\nFor example:\n```\n# List all placement groups in the cluster\nplacement_groups = ray.util.state.list_placement_groups()\n\n# Create a new actor on a random placement group\nnew_actor = ray.actor.create(actor_class, num_cpus=4, placement_group=placement_groups[0])\n\n# Scatter the new actor across the cluster\nfor i in range(10):\n    ray.util.state.list_actors(new_actor.address)\n    new_actor.stop()\n    new_actor = ray.actor.create(actor_class, num_cpus=4, placement_group=placement_groups[i%len(placement_groups)])\n```\nThis code will create a new actor on a random placement group in the cluster, and then scatter it across the cluster by stopping the actor and creating a new one on a different placement group. You can repeat this process to scatter multiple actors across the cluster.\n\nNote that the `ray.util.state.list_actors()` and `ray.util.state.list_placement_groups()` APIs are only available in Ray 1.1 and later. In earlier versions of Ray, you can use the `ray.state.list_actors()` and `ray.state.list_placement_groups()` APIs instead.",
       "question": "how to scatter actors across the cluster?",
       "reasoning": "The generated answer provides a detailed explanation and code examples on how to scatter actors across the cluster using Ray. However, it does not mention the 'SPREAD' scheduling strategy which is the method mentioned in the reference answer. The generated answer is not incorrect, but it does not align well with the reference answer.",
       "reference_answer": "To scatter actors across the cluster, you can use the 'SPREAD' scheduling strategy in Ray. You can define this strategy when creating your remote functions or actors using the '@ray.remote' decorator and specifying 'scheduling_strategy=\\",
       "score": 2.5,
       "sources": [
        "https://docs.ray.io/en/master/ray-observability/reference/doc/ray.util.state.list_actors.html#ray-util-state-list-actors",
        "https://docs.ray.io/en/master/ray-core/scheduling/index.html#spread",
        "https://docs.ray.io/en/master/ray-core/examples/gentle_walkthrough.html#ray-actors",
        "https://docs.ray.io/en/master/train/distributed-xgboost-lightgbm.html#how-many-remote-actors-should-i-use",
        "https://docs.ray.io/en/master/ray-observability/reference/api.html#list-apis"
       ]
      },
      "text/plain": [
       "<IPython.core.display.JSON object>"
      ]
     },
     "metadata": {
      "application/json": {
       "expanded": false,
       "root": "root"
      }
     },
     "output_type": "display_data"
    },
    {
     "name": "stderr",
     "output_type": "stream",
     "text": [
      "100%|██████████| 10/10 [00:57<00:00,  5.80s/it]\n"
     ]
    }
   ],
   "source": [
    "# With context\n",
    "num_chunks = 5\n",
    "experiment_name = \"with-context\"\n",
    "run_experiment(\n",
    "    experiment_name=experiment_name, \n",
    "    data_path=DATA_PATH,\n",
    "    sections=sections,\n",
    "    chunk_size=300, \n",
    "    chunk_overlap=50, \n",
    "    num_chunks=num_chunks,\n",
    "    embedding_model_name=\"thenlper/gte-base\",\n",
    "    llm=llm,\n",
    "    reference_loc=REFERENCE_LOC,\n",
    "    evaluator=EVALUATOR,\n",
    "    num_samples=num_samples)"
   ]
  },
  {
   "cell_type": "code",
   "execution_count": 313,
   "id": "8327cf28-5114-4e93-b769-014108dd743a",
   "metadata": {
    "tags": []
   },
   "outputs": [
    {
     "name": "stdout",
     "output_type": "stream",
     "text": [
      "with-context\n",
      "  retrieval score: 1.0\n",
      "  quality score: 4.1\n",
      "\n"
     ]
    }
   ],
   "source": [
    "print_experiment(experiment_name=experiment_name)"
   ]
  },
  {
   "cell_type": "markdown",
   "id": "df01f761-d3a7-4783-9fa7-57f62679b548",
   "metadata": {},
   "source": [
    "As we can see, **using context (RAG)** does indeed help in the quality of our answers!"
   ]
  },
  {
   "cell_type": "markdown",
   "id": "6acc3a24-007d-4add-b0dd-5832351c6d63",
   "metadata": {
    "tags": []
   },
   "source": [
    "### Chunk size"
   ]
  },
  {
   "cell_type": "code",
   "execution_count": 314,
   "id": "64b691b8-b2ea-4f77-857a-09e50053699c",
   "metadata": {
    "tags": []
   },
   "outputs": [],
   "source": [
    "chunk_sizes = [100, 300, 500, 700]"
   ]
  },
  {
   "cell_type": "code",
   "execution_count": 315,
   "id": "53c054d1-9e4d-4688-b4b9-cf5a39b382c3",
   "metadata": {
    "tags": []
   },
   "outputs": [
    {
     "data": {
      "application/json": {
       "generated_answer": "Sure, here's a possible answer to the query \"how to scatter actors across the cluster?\" based on the provided context:\n\nTo scatter actors across the cluster, you can use the `scheduling_strategy` parameter in the `@ray.remote` decorator to specify a strategy for distributing the actors across the available nodes. One common strategy is to use the `SPREAD` strategy, which will try to spread the actors among the available nodes.\n\nHere's an example of how you can use the `SPREAD` strategy to scatter actors across the cluster:\n```\n@ray.remote(scheduling_strategy=\"SPREAD\")\ndef spread_func():\n    return 2\n\n@ray.remote(num_cpus=1)\nclass SpreadActor:\n    pass\n\n# Spread tasks across the cluster.\n[spread_func.remote() for _ in range(10)]\n# Spread actors across the cluster.\nactors = [SpreadActor.options(scheduling_strategy=\"SPREAD\").remote() for _ in range(10)]\n```\nThis code will create 10 tasks and 10 actors, and distribute them across the available nodes in the cluster using the `SPREAD` strategy.\n\nAlternatively, you can also use the ` Pattern: Using an actor to synchronize other tasks and actors` pattern to scatter actors across the cluster. This pattern involves using a central actor to coordinate among multiple tasks and actors, allowing you to synchronize their execution and maintain state across the cluster.\n\nFor example, you could create a central actor that maintains a list of tasks to be executed, and then uses the `ray.get` method to retrieve the results of the tasks from the cluster:\n```\n@ray.remote(num_cpus=1)\nclass CentralActor:\n    def __init__(self):\n        self.tasks = []\n\n    def add_task(self, task):\n        self.tasks.append(task)\n\n    def get_results(self):\n        results = []\n        for task in self.tasks:\n            results.append(ray.get(task))\n        return results\n\n# Create a central actor.\ncentral_actor = CentralActor.remote()\n\n# Add tasks to the central actor.\ncentral_actor.add_task(spread_func.remote())\ncentral_actor.add_task(spread_func.remote())\ncentral_actor.add_task(spread_func.remote())\n\n# Get the results of the tasks from the central actor.\nresults = central_actor.get_results()\n```\nThis code will create a central actor that maintains a list of tasks to be executed, and then uses the `ray.get` method to retrieve the results of the tasks from the cluster. The `SPREAD` strategy can be used to scatter the tasks across the cluster, ensuring that they are executed on different nodes.\n\nI hope this helps! Let me know if you have any further questions.",
       "question": "how to scatter actors across the cluster?",
       "reasoning": "The generated answer is very detailed and provides a lot of information, but it does not match the reference answer. The reference answer is incomplete and does not provide a full context for the question. The generated answer, while informative, does not align with the reference answer.",
       "reference_answer": "To scatter actors across the cluster, you can use the 'SPREAD' scheduling strategy in Ray. You can define this strategy when creating your remote functions or actors using the '@ray.remote' decorator and specifying 'scheduling_strategy=\\",
       "score": 1,
       "sources": [
        "https://docs.ray.io/en/master/ray-core/scheduling/index.html#spread",
        "https://docs.ray.io/en/master/ray-core/patterns/actor-sync.html#pattern-using-an-actor-to-synchronize-other-tasks-and-actors",
        "https://docs.ray.io/en/master/ray-core/examples/gentle_walkthrough.html#ray-actors",
        "https://docs.ray.io/en/master/train/distributed-xgboost-lightgbm.html#how-many-remote-actors-should-i-use",
        "https://docs.ray.io/en/master/serve/monitoring.html#ray-dashboard"
       ]
      },
      "text/plain": [
       "<IPython.core.display.JSON object>"
      ]
     },
     "metadata": {
      "application/json": {
       "expanded": false,
       "root": "root"
      }
     },
     "output_type": "display_data"
    },
    {
     "name": "stderr",
     "output_type": "stream",
     "text": [
      "100%|██████████| 10/10 [00:56<00:00,  5.65s/it]\n"
     ]
    }
   ],
   "source": [
    "for chunk_size in chunk_sizes:\n",
    "    experiment_name = f\"chunk-size-{chunk_size}\"\n",
    "    run_experiment(\n",
    "        experiment_name=experiment_name, \n",
    "        data_path=DATA_PATH,\n",
    "        sections=sections,\n",
    "        chunk_size=chunk_size, \n",
    "        chunk_overlap=50, \n",
    "        num_chunks=5,\n",
    "        embedding_model_name=\"thenlper/gte-base\",\n",
    "        llm=llm,\n",
    "        reference_loc=REFERENCE_LOC,\n",
    "        evaluator=EVALUATOR,\n",
    "        num_samples=num_samples)"
   ]
  },
  {
   "cell_type": "code",
   "execution_count": 316,
   "id": "bc0e486a-de51-4cf0-8852-00d6ac8b532c",
   "metadata": {
    "tags": []
   },
   "outputs": [
    {
     "name": "stdout",
     "output_type": "stream",
     "text": [
      "chunk-size-100\n",
      "  retrieval score: 0.7\n",
      "  quality score: 3.2\n",
      "\n",
      "chunk-size-300\n",
      "  retrieval score: 1.0\n",
      "  quality score: 4.05\n",
      "\n",
      "chunk-size-500\n",
      "  retrieval score: 1.0\n",
      "  quality score: 4.5\n",
      "\n",
      "chunk-size-700\n",
      "  retrieval score: 0.8\n",
      "  quality score: 4.2\n",
      "\n"
     ]
    }
   ],
   "source": [
    "for chunk_size in chunk_sizes:\n",
    "    experiment_name = f\"chunk-size-{chunk_size}\"\n",
    "    print_experiment(experiment_name=experiment_name)"
   ]
  },
  {
   "cell_type": "markdown",
   "id": "680569cb-d1b3-464e-b771-1f5dd3d0cc66",
   "metadata": {},
   "source": [
    "Seem that a larger chunk size does help but it tapers off around the 600 characters mark (too much context might be too noisy)."
   ]
  },
  {
   "cell_type": "markdown",
   "id": "a316e232-a250-4880-8518-a2ba7a4e5835",
   "metadata": {},
   "source": [
    "**Note**: If we were to use larger chunk sizes (ours is based on characters), keep in mind that [most](https://huggingface.co/spaces/mteb/leaderboard) open source embedding models have a maximum sequence length of 512 sub-word tokens. This means that if our chunk contains more than 512 sub-word tokens, the embedding wouldn't account for it anyway (unless we finetune our embedding model to have longer sequence lengths)."
   ]
  },
  {
   "cell_type": "code",
   "execution_count": 317,
   "id": "04df6ec4-7edf-4a27-93ae-7ee2b3ff7241",
   "metadata": {
    "tags": []
   },
   "outputs": [],
   "source": [
    "CHUNK_SIZE = 500\n",
    "CHUNK_OVERLAP = 50"
   ]
  },
  {
   "cell_type": "markdown",
   "id": "fc80dd05-ced6-49b4-a193-c52fcebc118e",
   "metadata": {
    "tags": []
   },
   "source": [
    "### Number of chunks"
   ]
  },
  {
   "cell_type": "markdown",
   "id": "84fbb854-b016-4c42-97bc-56c7eebfa3dd",
   "metadata": {},
   "source": [
    "**Note**: Keep in mind that the `chunk_size` you chose multiplied by the `num_chunks` below fits inside the LLM's context length. We're experimenting with the chunk size and number of chunks as if they were indepdent variables but they area heavily related. Especially since all of our LLMs have a finite maximum context length. So ideally, we would tune for a combination if `chunk_size` * `num_chunks`."
   ]
  },
  {
   "cell_type": "code",
   "execution_count": 318,
   "id": "03926725-4dac-43ad-880b-80825d3b958c",
   "metadata": {
    "tags": []
   },
   "outputs": [],
   "source": [
    "num_chunks_list = [1, 3, 5, 7]"
   ]
  },
  {
   "cell_type": "code",
   "execution_count": 319,
   "id": "c514d9c7-e16d-44c4-88b7-72a49b5c4197",
   "metadata": {
    "tags": []
   },
   "outputs": [
    {
     "data": {
      "application/json": {
       "generated_answer": "Sure, here's a possible answer to the query \"how to scatter actors across the cluster?\" based on the provided context:\n\nTo scatter actors across a heterogeneous cluster, you can use the `scheduling_strategy` parameter in the `@ray.remote` decorator to specify a strategy for allocating actors across the cluster. One common strategy is to use the \"SPREAD\" strategy, which tries to spread the actors among available nodes.\n\nHere's an example of how to use the \"SPREAD\" strategy to scatter actors across a cluster:\n```\n@ray.remote(scheduling_strategy=\"SPREAD\")\ndef spread_func():\n    return 2\n\n@ray.remote(num_cpus=1)\nclass SpreadActor:\n    pass\n\n# Spread tasks across the cluster.\n[spread_func.remote() for _ in range(10)]\n# Spread actors across the cluster.\nactors = [SpreadActor.options(scheduling_strategy=\"SPREAD\").remote() for _ in range(10)]\n```\nThis code will allocate the `spread_func` tasks and `SpreadActor` actors across the cluster, trying to spread them evenly across available nodes.\n\nAnother strategy is to use the `Limit` strategy, which allows you to specify a maximum number of actors or tasks that can run on each node. For example:\n```\n@ray.remote(num_cpus=1, scheduling_strategy=\"Limit\")\nclass LimitedActor:\n    pass\n\n# Limit the number of actors per node.\nactors = [LimitedActor.options(num_cpus=1, scheduling_strategy=\"Limit\").remote() for _ in range(10)]\n```\nThis code will allocate the `LimitedActor` actors across the cluster, limiting the number of actors per node to at most 1.\n\nYou can also use a combination of these strategies to achieve more complex actor placement patterns. For example, you can use the `SPREAD` strategy to spread actors across the cluster, and then use the `Limit` strategy to limit the number of actors per node.\n\nI hope this helps! Let me know if you have any further questions.",
       "question": "how to scatter actors across the cluster?",
       "reasoning": "The generated answer is comprehensive and provides a detailed explanation on how to scatter actors across a cluster using different strategies. It also includes code examples which are very helpful. However, it is slightly verbose and could be more concise.",
       "reference_answer": "To scatter actors across the cluster, you can use the 'SPREAD' scheduling strategy in Ray. You can define this strategy when creating your remote functions or actors using the '@ray.remote' decorator and specifying 'scheduling_strategy=\\",
       "score": 4,
       "sources": [
        "https://docs.ray.io/en/master/train/distributed-xgboost-lightgbm.html#how-many-remote-actors-should-i-use",
        "https://docs.ray.io/en/master/ray-core/examples/gentle_walkthrough.html#ray-actors",
        "https://docs.ray.io/en/master/ray-core/scheduling/index.html#spread",
        "https://docs.ray.io/en/master/data/batch_inference.html#handling-cpu-out-of-memory-failures",
        "https://docs.ray.io/en/master/serve/monitoring.html#ray-dashboard",
        "https://docs.ray.io/en/master/ray-core/patterns/actor-sync.html#pattern-using-an-actor-to-synchronize-other-tasks-and-actors",
        "https://docs.ray.io/en/master/ray-core/scheduling/index.html#default"
       ]
      },
      "text/plain": [
       "<IPython.core.display.JSON object>"
      ]
     },
     "metadata": {
      "application/json": {
       "expanded": false,
       "root": "root"
      }
     },
     "output_type": "display_data"
    },
    {
     "name": "stderr",
     "output_type": "stream",
     "text": [
      "100%|██████████| 10/10 [00:51<00:00,  5.13s/it]\n"
     ]
    }
   ],
   "source": [
    "for num_chunks in num_chunks_list:\n",
    "    experiment_name = f\"num-chunks-{num_chunks}\"\n",
    "    run_experiment(\n",
    "        experiment_name=experiment_name, \n",
    "        data_path=DATA_PATH,\n",
    "        sections=sections,\n",
    "        chunk_size=CHUNK_SIZE, \n",
    "        chunk_overlap=CHUNK_OVERLAP, \n",
    "        num_chunks=num_chunks,\n",
    "        embedding_model_name=\"thenlper/gte-base\",\n",
    "        llm=llm,\n",
    "        reference_loc=REFERENCE_LOC,\n",
    "        evaluator=EVALUATOR,\n",
    "        num_samples=num_samples)"
   ]
  },
  {
   "cell_type": "code",
   "execution_count": 320,
   "id": "76f5a117-819e-4d06-b9e9-d196a592e123",
   "metadata": {
    "tags": []
   },
   "outputs": [
    {
     "name": "stdout",
     "output_type": "stream",
     "text": [
      "num-chunks-1\n",
      "  retrieval score: 0.3\n",
      "  quality score: 3.3\n",
      "\n",
      "num-chunks-3\n",
      "  retrieval score: 0.8\n",
      "  quality score: 4.1\n",
      "\n",
      "num-chunks-5\n",
      "  retrieval score: 1.0\n",
      "  quality score: 4.6\n",
      "\n",
      "num-chunks-7\n",
      "  retrieval score: 1.0\n",
      "  quality score: 4.4\n",
      "\n"
     ]
    }
   ],
   "source": [
    "for num_chunks in num_chunks_list:\n",
    "    experiment_name=f\"num-chunks-{num_chunks}\"\n",
    "    print_experiment(experiment_name=experiment_name)"
   ]
  },
  {
   "cell_type": "markdown",
   "id": "ee986a80-8659-4344-bb22-71bb62b32946",
   "metadata": {},
   "source": [
    "Increasing our number of chunks improves our retrieval and quality scores. We had to stop testing at 6 chunks since our `chunk_size` is 600 tokens and `Llama-2-70b`'s maximum context length is 4096 tokens (we also have to account for the system, assistant and user content to our LLM). This is a major reason to invest in extending context size via RoPE scaling (rotary position embeddings), etc. But it also seems that the benefit of increasing the number of chunks is starting to taper off."
   ]
  },
  {
   "cell_type": "code",
   "execution_count": 321,
   "id": "fbe4828f-9639-4957-898e-27dd0ce3ee32",
   "metadata": {
    "tags": []
   },
   "outputs": [],
   "source": [
    "NUM_CHUNKS = 7"
   ]
  },
  {
   "cell_type": "markdown",
   "id": "1a04dff3-5323-419f-a290-849c96899292",
   "metadata": {},
   "source": [
    "### Embedding models"
   ]
  },
  {
   "cell_type": "markdown",
   "id": "df10c471-22b5-479c-bbbd-59ff3835d7b9",
   "metadata": {},
   "source": [
    "So far, we've used [`thenlper/gte-base`](https://huggingface.co/thenlper/gte-base) as our embedding model because it's a relatively small (0.22 GB) and performant option. But now, let's explore other popular options such the current leader on the [MTEB leaderboard](https://huggingface.co/spaces/mteb/leaderboard), [`BAAI/bge-large-en`](https://huggingface.co/BAAI/bge-large-en) (1.34 GB), and OpenAI's [`text-embedding-ada-002`](https://openai.com/blog/new-and-improved-embedding-model)."
   ]
  },
  {
   "cell_type": "code",
   "execution_count": 322,
   "id": "198ec597-8aaf-4c45-a275-2094211eebb4",
   "metadata": {
    "tags": []
   },
   "outputs": [],
   "source": [
    "embedding_model_names = [\"thenlper/gte-base\", \"BAAI/bge-large-en\", \"text-embedding-ada-002\"]"
   ]
  },
  {
   "cell_type": "code",
   "execution_count": 323,
   "id": "1913f50c-ef13-487d-beeb-77ee38f91067",
   "metadata": {
    "tags": []
   },
   "outputs": [
    {
     "data": {
      "application/json": {
       "generated_answer": "Sure, here's a possible answer to the query \"how to scatter actors across the cluster?\" based on the provided context:\n\nTo scatter actors across a heterogeneous cluster, you can use the \"SPREAD\" scheduling strategy in Ray. This strategy will try to spread the tasks or actors among available nodes.\n\nHere's an example of how to use the \"SPREAD\" strategy to scatter actors across the cluster:\n```\n@ray.remote(scheduling_strategy=\"SPREAD\")\ndef spread_func():\n    return 2\n\n@ray.remote(num_cpus=1)\nclass SpreadActor:\n    pass\n\n# Spread tasks across the cluster.\n[spread_func.remote() for _ in range(10)]\n# Spread actors across the cluster.\nactors = [SpreadActor.options(scheduling_strategy=\"SPREAD\").remote() for _ in range(10)]\n```\nThis code will scatter the `spread_func` tasks and `SpreadActor` actors across the cluster, using the \"SPREAD\" scheduling strategy.\n\nAdditionally, you can use the `ray.put` method to load and pass a large model efficiently in a Ray cluster. The driver can load the model from storage and then pass the same reference to each remote task when launching them.\n\nFor example:\n```\n# Load the model from storage.\nmodel = ray.put(model_file)\n\n# Launch remote tasks and pass the model reference.\n[task.remote(model) for _ in range(10)]\n```\nThis way, each remote task will have access to the same model reference, and you can avoid the need to load the model multiple times.",
       "question": "how to scatter actors across the cluster?",
       "reasoning": "The generated answer is quite comprehensive and provides a detailed explanation on how to scatter actors across a cluster using the 'SPREAD' scheduling strategy in Ray. It also includes code examples which are very helpful. However, it includes additional information about using the `ray.put` method which was not asked for in the query and is not present in the reference answer. This additional information, while useful, deviates slightly from the original query.",
       "reference_answer": "To scatter actors across the cluster, you can use the 'SPREAD' scheduling strategy in Ray. You can define this strategy when creating your remote functions or actors using the '@ray.remote' decorator and specifying 'scheduling_strategy=\\",
       "score": 4,
       "sources": [
        "https://docs.ray.io/en/master/train/distributed-xgboost-lightgbm.html#how-many-remote-actors-should-i-use",
        "https://docs.ray.io/en/master/ray-core/patterns/actor-sync.html#pattern-using-an-actor-to-synchronize-other-tasks-and-actors",
        "https://docs.ray.io/en/master/cluster/running-applications/autoscaling/reference.html#programmatic-cluster-scaling",
        "https://docs.ray.io/en/master/ray-core/patterns/concurrent-operations-async-actor.html#pattern-using-asyncio-to-run-actor-methods-concurrently",
        "https://docs.ray.io/en/master/data/examples/random-access.html#performance",
        "https://docs.ray.io/en/master/ray-core/scheduling/index.html#spread",
        "https://docs.ray.io/en/master/ray-core/examples/batch_prediction.html#how-to-load-and-pass-model-efficiently-in-ray-cluster-if-the-model-is-large"
       ]
      },
      "text/plain": [
       "<IPython.core.display.JSON object>"
      ]
     },
     "metadata": {
      "application/json": {
       "expanded": false,
       "root": "root"
      }
     },
     "output_type": "display_data"
    },
    {
     "name": "stderr",
     "output_type": "stream",
     "text": [
      "100%|██████████| 10/10 [01:04<00:00,  6.41s/it]\n"
     ]
    }
   ],
   "source": [
    "for embedding_model_name in embedding_model_names:\n",
    "    experiment_name = f\"{embedding_model_name.split('/')[-1]}\"\n",
    "    run_experiment(\n",
    "        experiment_name=experiment_name, \n",
    "        data_path=DATA_PATH,\n",
    "        sections=sections,\n",
    "        chunk_size=CHUNK_SIZE, \n",
    "        chunk_overlap=CHUNK_OVERLAP, \n",
    "        num_chunks=NUM_CHUNKS,\n",
    "        embedding_model_name=embedding_model_name,\n",
    "        llm=llm,\n",
    "        reference_loc=REFERENCE_LOC,\n",
    "        evaluator=EVALUATOR,\n",
    "        num_samples=num_samples)"
   ]
  },
  {
   "cell_type": "code",
   "execution_count": 324,
   "id": "2c429ae5-f5a5-4a2e-893a-7add9d11337f",
   "metadata": {
    "tags": []
   },
   "outputs": [
    {
     "name": "stdout",
     "output_type": "stream",
     "text": [
      "gte-base\n",
      "  retrieval score: 1.0\n",
      "  quality score: 4.3\n",
      "\n",
      "bge-large-en\n",
      "  retrieval score: 0.5\n",
      "  quality score: 3.0\n",
      "\n",
      "text-embedding-ada-002\n",
      "  retrieval score: 0.8\n",
      "  quality score: 4.5\n",
      "\n"
     ]
    }
   ],
   "source": [
    "for embedding_model_name in embedding_model_names:\n",
    "    experiment_name = f\"{embedding_model_name.split('/')[-1]}\"\n",
    "    print_experiment(experiment_name=experiment_name)"
   ]
  },
  {
   "cell_type": "markdown",
   "id": "7fd24b35-1db3-4326-ab0c-c4b484fb5aea",
   "metadata": {},
   "source": [
    "This is an interesting outcome because the #1 (`BAAI/bge-large-en`) on the current leaderboard isn't necessarily the best for our specific task. Using the smaller `thenlper/gte-base` produced the best retrieval and quality scores in our experiments."
   ]
  },
  {
   "cell_type": "code",
   "execution_count": 325,
   "id": "845ad771-65e1-44cf-813f-3aa167c07e31",
   "metadata": {
    "tags": []
   },
   "outputs": [],
   "source": [
    "EMBEDDING_MODEL_NAME = \"thenlper/gte-base\""
   ]
  },
  {
   "cell_type": "markdown",
   "id": "8b21b32f-bacb-4703-b16c-d4a7014779dc",
   "metadata": {},
   "source": [
    "### OSS vs. closed LLMs"
   ]
  },
  {
   "cell_type": "code",
   "execution_count": 326,
   "id": "a91c87cb-ba0d-4044-9616-b2cbad239587",
   "metadata": {
    "tags": []
   },
   "outputs": [],
   "source": [
    "llms = [\"gpt-3.5-turbo\",\n",
    "        \"gpt-4\",\n",
    "        \"meta-llama/Llama-2-7b-chat-hf\", \n",
    "        \"meta-llama/Llama-2-13b-chat-hf\", \n",
    "        \"meta-llama/Llama-2-70b-chat-hf\"]"
   ]
  },
  {
   "cell_type": "code",
   "execution_count": 327,
   "id": "072e8114-23ba-402e-a03d-594089e9b4d5",
   "metadata": {
    "tags": []
   },
   "outputs": [
    {
     "data": {
      "application/json": {
       "generated_answer": "Sure, here's a possible answer to the query \"how to scatter actors across the cluster?\" based on the provided context:\n\nTo scatter actors across a heterogeneous cluster, you can use the `scheduling_strategy` parameter in the `@ray.remote` decorator to specify a strategy for allocating actors across the cluster. One common strategy is to use the \"SPREAD\" strategy, which tries to spread the actors among available nodes.\n\nHere's an example of how to use the \"SPREAD\" strategy to scatter actors across a cluster:\n```\n@ray.remote(scheduling_strategy=\"SPREAD\")\ndef spread_func():\n    return 2\n\n@ray.remote(num_cpus=1)\nclass SpreadActor:\n    pass\n\n# Spread tasks across the cluster.\n[spread_func.remote() for _ in range(10)]\n# Spread actors across the cluster.\nactors = [SpreadActor.options(scheduling_strategy=\"SPREAD\").remote() for _ in range(10)]\n```\nThis code will allocate the `spread_func` tasks and `SpreadActor` actors across the cluster, trying to spread them evenly across available nodes.\n\nAnother strategy is to use the `Limit` strategy, which allows you to specify a maximum number of actors or tasks that can run on each node. For example:\n```\n@ray.remote(num_cpus=1, scheduling_strategy=\"Limit\")\nclass LimitedActor:\n    pass\n\n# Limit the number of actors per node.\nactors = [LimitedActor.options(num_cpus=1, scheduling_strategy=\"Limit\").remote() for _ in range(10)]\n```\nThis code will allocate the `LimitedActor` actors across the cluster, limiting the number of actors per node to at most 1.\n\nYou can also use a combination of these strategies to achieve more complex actor placement patterns. For example, you can use the `SPREAD` strategy to spread actors across the cluster, and then use the `Limit` strategy to limit the number of actors per node.\n\nI hope this helps! Let me know if you have any further questions.",
       "question": "how to scatter actors across the cluster?",
       "reasoning": "The generated answer is comprehensive and provides a detailed explanation on how to scatter actors across a cluster. It includes code examples and explains different strategies that can be used. However, it is slightly verbose and could be more concise. The reference answer is much shorter and less detailed, but the generated answer still addresses the query accurately and provides useful information.",
       "reference_answer": "To scatter actors across the cluster, you can use the 'SPREAD' scheduling strategy in Ray. You can define this strategy when creating your remote functions or actors using the '@ray.remote' decorator and specifying 'scheduling_strategy=\\",
       "score": 4,
       "sources": [
        "https://docs.ray.io/en/master/train/distributed-xgboost-lightgbm.html#how-many-remote-actors-should-i-use",
        "https://docs.ray.io/en/master/ray-core/examples/gentle_walkthrough.html#ray-actors",
        "https://docs.ray.io/en/master/ray-core/scheduling/index.html#spread",
        "https://docs.ray.io/en/master/data/batch_inference.html#handling-cpu-out-of-memory-failures",
        "https://docs.ray.io/en/master/serve/monitoring.html#ray-dashboard",
        "https://docs.ray.io/en/master/ray-core/patterns/actor-sync.html#pattern-using-an-actor-to-synchronize-other-tasks-and-actors",
        "https://docs.ray.io/en/master/ray-core/scheduling/index.html#default"
       ]
      },
      "text/plain": [
       "<IPython.core.display.JSON object>"
      ]
     },
     "metadata": {
      "application/json": {
       "expanded": false,
       "root": "root"
      }
     },
     "output_type": "display_data"
    },
    {
     "name": "stderr",
     "output_type": "stream",
     "text": [
      "100%|██████████| 10/10 [00:55<00:00,  5.54s/it]\n"
     ]
    }
   ],
   "source": [
    "for llm in llms:\n",
    "    experiment_name = f\"{llm.split('/')[-1].lower()}\"\n",
    "    run_experiment(\n",
    "        experiment_name=experiment_name, \n",
    "        data_path=DATA_PATH,\n",
    "        sections=sections,\n",
    "        chunk_size=CHUNK_SIZE, \n",
    "        chunk_overlap=CHUNK_OVERLAP, \n",
    "        num_chunks=NUM_CHUNKS,\n",
    "        embedding_model_name=EMBEDDING_MODEL_NAME,\n",
    "        llm=llm,\n",
    "        reference_loc=REFERENCE_LOC,\n",
    "        evaluator=EVALUATOR,\n",
    "        num_samples=num_samples)"
   ]
  },
  {
   "cell_type": "code",
   "execution_count": 328,
   "id": "c7e6276e-3b92-4d2e-8438-050386c6c83a",
   "metadata": {
    "tags": []
   },
   "outputs": [
    {
     "name": "stdout",
     "output_type": "stream",
     "text": [
      "gpt-3.5-turbo\n",
      "  retrieval score: 1.0\n",
      "  quality score: 4.7\n",
      "\n",
      "gpt-4\n",
      "  retrieval score: 1.0\n",
      "  quality score: 4.9\n",
      "\n",
      "llama-2-7b-chat-hf\n",
      "  retrieval score: 1.0\n",
      "  quality score: 3.75\n",
      "\n",
      "llama-2-13b-chat-hf\n",
      "  retrieval score: 1.0\n",
      "  quality score: 4.2\n",
      "\n",
      "llama-2-70b-chat-hf\n",
      "  retrieval score: 1.0\n",
      "  quality score: 4.4\n",
      "\n"
     ]
    }
   ],
   "source": [
    "for llm in llms:\n",
    "    experiment_name = f\"{llm.split('/')[-1].lower()}\"\n",
    "    print_experiment(experiment_name=experiment_name)"
   ]
  },
  {
   "cell_type": "markdown",
   "id": "97d1cd68-f77a-4f13-9454-3add1fc65158",
   "metadata": {},
   "source": [
    "**Note**: Some of our LLMs have much larger context lengths, ex. `gpt-4` is 8192 and `gpt-3.5-turbo-16k` is 16384. We could increase the number of chunks that we use for these since we saw that increasing `num_chunks` continued to improve the retrieval and quality scores. However, we will keep this value fixed for now since the performance started to taper off anyway and so we can compare these performances under the exact same configurations."
   ]
  },
  {
   "cell_type": "code",
   "execution_count": 329,
   "id": "0275cb71-6876-404a-bdbe-f79347162696",
   "metadata": {
    "tags": []
   },
   "outputs": [],
   "source": [
    "LLM = \"meta-llama/Llama-2-70b-chat-hf\""
   ]
  },
  {
   "cell_type": "markdown",
   "id": "f916ea05-4b99-4024-9211-ed35bb8ac9dc",
   "metadata": {},
   "source": [
    "## Cost analysis"
   ]
  },
  {
   "cell_type": "markdown",
   "id": "96c145a5-e97e-4811-ba12-c1a37d71c171",
   "metadata": {
    "tags": []
   },
   "source": [
    "**Note**: Our `Llama-2` models are priced at $1/M tokens with [Anyscale Endpoints](https://endpoints.anyscale.com/)."
   ]
  },
  {
   "cell_type": "code",
   "execution_count": 330,
   "id": "ca18129b-62db-49af-9be3-2444d0af5751",
   "metadata": {
    "tags": []
   },
   "outputs": [],
   "source": [
    "# Pricing details\n",
    "pricing = {\n",
    "    \"gpt-3.5-turbo\": {\n",
    "        \"prompt\": 2e-6,\n",
    "        \"sampled\": 2e-6\n",
    "    },\n",
    "    \"gpt-4\": {\n",
    "        \"prompt\": 3e-5,\n",
    "        \"sampled\": 6e-5\n",
    "    },\n",
    "    \"llama-2-7b-chat-hf\": {\n",
    "        \"prompt\": 1e-6,\n",
    "        \"sampled\": 1e-6\n",
    "    },\n",
    "    \"llama-2-13b-chat-hf\": {\n",
    "        \"prompt\": 1e-6,\n",
    "        \"sampled\": 1e-6\n",
    "    },\n",
    "    \"llama-2-70b-chat-hf\": {\n",
    "        \"prompt\": 1e-6,\n",
    "        \"sampled\": 1e-6\n",
    "    }\n",
    "}"
   ]
  },
  {
   "cell_type": "code",
   "execution_count": 331,
   "id": "7f020340-9357-4a48-976b-cdac2e467351",
   "metadata": {
    "tags": []
   },
   "outputs": [],
   "source": [
    "def cost_analysis(llm):\n",
    "    experiment_name = f\"{llm.split('/')[-1].lower()}\"\n",
    "    eval_fp = Path(ROOT_DIR, EXPERIMENTS_DIR, \"evaluations\", f\"{experiment_name}_{EVALUATOR}.json\")\n",
    "    with open(eval_fp, \"r\") as fp:\n",
    "        d = json.load(fp)\n",
    "    num_samples = len(d[\"results\"])\n",
    "    prompt_size, sampled_size = 0, 0\n",
    "    for result in d[\"results\"]:\n",
    "        prompt_size += len(result[\"question\"]) + (CHUNK_SIZE * NUM_CHUNKS)\n",
    "        sampled_size += len(result[\"generated_answer\"])\n",
    "    total_cost = pricing[experiment_name][\"prompt\"] * prompt_size + pricing[experiment_name][\"sampled\"] * sampled_size\n",
    "    avg_cost = total_cost / num_samples\n",
    "    \n",
    "    print (llm)\n",
    "    print (f\"  avg prompt size: {int(prompt_size/num_samples)}\")\n",
    "    print (f\"  avg sampled size: {int(sampled_size/num_samples)}\")\n",
    "    print (f\"  total cost: ${total_cost:.2f}\")\n",
    "    print (f\"  avg cost: ${avg_cost:.2f}\")\n",
    "    print ()"
   ]
  },
  {
   "cell_type": "code",
   "execution_count": 332,
   "id": "ee95574b-b355-4d5a-979b-467657bbd959",
   "metadata": {
    "tags": []
   },
   "outputs": [
    {
     "name": "stdout",
     "output_type": "stream",
     "text": [
      "gpt-3.5-turbo\n",
      "  avg prompt size: 3550\n",
      "  avg sampled size: 1032\n",
      "  total cost: $0.09\n",
      "  avg cost: $0.01\n",
      "\n",
      "gpt-4\n",
      "  avg prompt size: 3550\n",
      "  avg sampled size: 782\n",
      "  total cost: $1.53\n",
      "  avg cost: $0.15\n",
      "\n",
      "meta-llama/Llama-2-7b-chat-hf\n",
      "  avg prompt size: 3550\n",
      "  avg sampled size: 2162\n",
      "  total cost: $0.06\n",
      "  avg cost: $0.01\n",
      "\n",
      "meta-llama/Llama-2-13b-chat-hf\n",
      "  avg prompt size: 3550\n",
      "  avg sampled size: 1561\n",
      "  total cost: $0.05\n",
      "  avg cost: $0.01\n",
      "\n",
      "meta-llama/Llama-2-70b-chat-hf\n",
      "  avg prompt size: 3550\n",
      "  avg sampled size: 1224\n",
      "  total cost: $0.05\n",
      "  avg cost: $0.00\n",
      "\n"
     ]
    }
   ],
   "source": [
    "for llm in llms:\n",
    "    cost_analysis(llm=llm)"
   ]
  },
  {
   "cell_type": "markdown",
   "id": "14f2b5b9-8fe0-44a3-8910-8ce21056dc57",
   "metadata": {},
   "source": [
    "## Next steps"
   ]
  },
  {
   "cell_type": "markdown",
   "id": "150189f9-e9c0-4af5-b426-74c847ab22b2",
   "metadata": {},
   "source": [
    "In progress:\n",
    "- hybrid routing\n",
    "\n",
    "LlamaIndex:\n",
    "- Generate synthetic datasets (query, source, answer)\n",
    "- add context to embeddings\n",
    "- better chunking logic\n",
    "- fine-tune embedding model\n",
    "- fine-tune base LLM (gpt-3.5 and OSS)\n",
    "\n",
    "Later:\n",
    "- additional data sources\n",
    "- longer context lengths (RoPE)\n",
    "- keyword search with semantic (embedding) search\n",
    "- reranking with LLM after results from (faster) embedding search"
   ]
  },
  {
   "cell_type": "code",
   "execution_count": null,
   "id": "ec31eb21-78e3-455a-a127-25c9de052ac0",
   "metadata": {},
   "outputs": [],
   "source": []
  }
 ],
 "metadata": {
  "kernelspec": {
   "display_name": "Python 3 (ipykernel)",
   "language": "python",
   "name": "python3"
  },
  "language_info": {
   "codemirror_mode": {
    "name": "ipython",
    "version": 3
   },
   "file_extension": ".py",
   "mimetype": "text/x-python",
   "name": "python",
   "nbconvert_exporter": "python",
   "pygments_lexer": "ipython3",
   "version": "3.8.13"
  }
 },
 "nbformat": 4,
 "nbformat_minor": 5
}
